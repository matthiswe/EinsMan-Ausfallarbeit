{
 "cells": [
  {
   "cell_type": "markdown",
   "metadata": {
    "ExecuteTime": {
     "end_time": "2020-07-16T08:04:27.725792Z",
     "start_time": "2020-07-16T08:04:27.676612Z"
    }
   },
   "source": [
    " \n",
    "|Variable|Description|\n",
    "|:-------|:--------|\n",
    "|dswrf_sfc_wm2 | Net downward shortwave radiation flux|\n",
    "|gust_sfc_ms | Wind gust surface (Böe)|\n",
    "|hpbl_sfc_m | Planetary boundary layer height|\n",
    "|msl_ms_pa | Mean sea level pressure|\n",
    "|pottemp_80mto0m_K | Potential temperature difference between 80m and 0m|\n",
    "|q_2m_1 | Specific humudity in 2 m height|\n",
    "|q_pfg30_1 | Specific humidity mean over first 30 hPa (~250m)|\n",
    "|r_pl925_% | Relative humidity in 925 hPa pressure level|\n",
    "|r_pl950_% | Relative humidity in 950 hPa pressure level |\n",
    "|shtfl_sfc_wm2 | Net sensible heat flux (conductive heat flux from the Earth's surface to the atmosphere)|\n",
    "|t_100m_k | Temperature in 100 m height in Kelvin|\n",
    "|t_2m_k | Temperature in 2 m height in Kelvin|\n",
    "|t_pfg30_k | Temperature mean ober first 30 hPa (~250m) in Kelvin |\n",
    "|tcclow_sfc_% | Total Cloud Cover, low level clouds (0km - 2km height)|\n",
    "|tccmedium_sfc_% | Total Cloud Cover, medium level clouds (2km - 7km height)|\n",
    "|wdir_100m_dn | wind direction in 100 m height in in degrees|\n",
    "|wdir_10m_dn | wind direction in 10 m height in in degrees|\n",
    "|wdir_pfg30_dn | wind direction mean over first 30 hPa (~250m) in degrees|\n",
    "|wdir_pl925_dn | wind direction in 925 hPa pressure level in degrees|\n",
    "|wsp_100m_ms | wind speed in 100 m height in meters/second|\n",
    "|wsp_10m_ms | wind speed in 10 m height in meters/second |\n",
    "|wsp_pfg30_ms | wind speed mean over first 30 hPa (~250m) in meters/second|\n",
    "|wsp_pl925_ms | wind speed in 925 hPa pressure leben in meters/second|\n",
    "|created_on | date and 24 hours divided in quarters|\n",
    "|azimuth | shows the rotation of the wind turbine|\n",
    "|elevation | heights of the sun|"
   ]
  },
  {
   "cell_type": "code",
   "execution_count": 1,
   "metadata": {
    "ExecuteTime": {
     "end_time": "2020-07-31T08:05:12.137269Z",
     "start_time": "2020-07-31T08:05:12.117018Z"
    }
   },
   "outputs": [],
   "source": [
    "reset -fs"
   ]
  },
  {
   "cell_type": "markdown",
   "metadata": {},
   "source": [
    "# Loading Modules and Datasets"
   ]
  },
  {
   "cell_type": "code",
   "execution_count": 2,
   "metadata": {
    "ExecuteTime": {
     "end_time": "2020-07-31T08:05:15.055211Z",
     "start_time": "2020-07-31T08:05:12.139465Z"
    }
   },
   "outputs": [],
   "source": [
    "import pickle\n",
    "import pandas as pd\n",
    "import matplotlib.pyplot as plt\n",
    "import seaborn as sns\n",
    "import numpy as np\n",
    "\n",
    "from sklearn.linear_model import LinearRegression\n",
    "from sklearn.svm import SVR\n",
    "from sklearn.naive_bayes import GaussianNB\n",
    "from sklearn.neighbors import KNeighborsRegressor\n",
    "from sklearn.linear_model import LogisticRegression\n",
    "from sklearn.preprocessing import PolynomialFeatures\n",
    "from sklearn.model_selection import RandomizedSearchCV\n",
    "from sklearn.ensemble import RandomForestRegressor\n",
    "from scipy.stats import uniform\n",
    "from sklearn.model_selection import train_test_split, cross_val_predict, cross_val_score, cross_validate\n",
    "from sklearn import preprocessing\n",
    "from sklearn.metrics import r2_score, mean_squared_error, mean_absolute_error, explained_variance_score\n",
    "\n",
    "import urllib.request\n",
    "import time\n",
    "from datetime import datetime\n",
    "import requests\n",
    "\n",
    "import plotly as py\n",
    "import plotly.graph_objects as go\n",
    "from plotly.subplots import make_subplots\n",
    "import plotly.express as px\n",
    "\n",
    "from mpl_toolkits.mplot3d import Axes3D\n",
    "\n",
    "%matplotlib inline"
   ]
  },
  {
   "cell_type": "code",
   "execution_count": 3,
   "metadata": {
    "ExecuteTime": {
     "end_time": "2020-07-31T08:05:15.097447Z",
     "start_time": "2020-07-31T08:05:15.057720Z"
    }
   },
   "outputs": [],
   "source": [
    "# reading in the first dataframe\n",
    "with open('griddata_gfs_us_20180101_20190826_03_final.p', 'rb') as f:\n",
    "    u = pickle._Unpickler(f)\n",
    "    u.encoding = 'latin1'\n",
    "    df_fin = u.load()"
   ]
  },
  {
   "cell_type": "code",
   "execution_count": 4,
   "metadata": {
    "ExecuteTime": {
     "end_time": "2020-07-31T08:05:15.778521Z",
     "start_time": "2020-07-31T08:05:15.099679Z"
    },
    "scrolled": true
   },
   "outputs": [],
   "source": [
    "# rename columns which contains symbols\n",
    "df_fin = df_fin.rename(columns={'r_pl925_%': 'r_pl925_perc','r_pl950_%': 'r_pl950_perc',\n",
    "                        'tcclow_sfc_%': 'tcclow_sfc_perc','tccmedium_sfc_%': 'tccmedium_sfc_perc'})\n",
    "# converting to actual timezone\n",
    "df_fin.index = df_fin.index.tz_convert(tz='Europe/Berlin').to_series(keep_tz=True)\n",
    "\n",
    "# resampling to a time range of 15 minutes and interpolate between the hourly values\n",
    "df_fin = df_fin.resample('10min', axis='index').interpolate()\n",
    "df_fin = df_fin.fillna(method='ffill')\n",
    "\n",
    "# creating columns with name of the day and month\n",
    "df_fin['day_name'] = df_fin.index.day_name()\n",
    "df_fin['day_name'] = df_fin['day_name'].astype('category')\n",
    "df_fin['month_name'] = df_fin.index.month_name()\n",
    "df_fin['month_name'] = df_fin['month_name'].astype('category')"
   ]
  },
  {
   "cell_type": "code",
   "execution_count": 5,
   "metadata": {
    "ExecuteTime": {
     "end_time": "2020-07-31T08:05:15.788257Z",
     "start_time": "2020-07-31T08:05:15.780320Z"
    }
   },
   "outputs": [],
   "source": [
    "# reading in the second dataframe\n",
    "with open('obs_20180101_20190625_03_final_normed.p', 'rb') as f:\n",
    "    u = pickle._Unpickler(f)\n",
    "    u.encoding = 'latin1'\n",
    "    df_norm = u.load()\n"
   ]
  },
  {
   "cell_type": "code",
   "execution_count": 6,
   "metadata": {
    "ExecuteTime": {
     "end_time": "2020-07-31T08:05:15.794034Z",
     "start_time": "2020-07-31T08:05:15.790085Z"
    }
   },
   "outputs": [],
   "source": [
    "# converting to the same timezone as the first dataframe\n",
    "df_norm.index = df_norm.index.tz_convert(tz='Europe/Berlin').to_series(keep_tz=True)\n",
    "\n",
    "# resample \n",
    "# df_norm = df_norm.resample('H').mean()"
   ]
  },
  {
   "cell_type": "code",
   "execution_count": 7,
   "metadata": {
    "ExecuteTime": {
     "end_time": "2020-07-31T08:05:15.821577Z",
     "start_time": "2020-07-31T08:05:15.795734Z"
    }
   },
   "outputs": [],
   "source": [
    "# combining both dataframes to have one to work in\n",
    "df = pd.concat([df_norm,df_fin], axis=1)"
   ]
  },
  {
   "cell_type": "code",
   "execution_count": 8,
   "metadata": {
    "ExecuteTime": {
     "end_time": "2020-07-31T08:05:15.830644Z",
     "start_time": "2020-07-31T08:05:15.825479Z"
    },
    "scrolled": true
   },
   "outputs": [
    {
     "data": {
      "text/plain": [
       "Index(['power_mw_obsnorm', 'power_available_mw_obsnorm', 'target_losses_norm',\n",
       "       'dswrf_sfc_wm2', 'gust_sfc_ms', 'hpbl_sfc_m', 'msl_ms_pa',\n",
       "       'pottemp_80mto0m_K', 'q_2m_1', 'q_pfg30_1', 'r_pl925_perc',\n",
       "       'r_pl950_perc', 'shtfl_sfc_wm2', 't_100m_k', 't_2m_k', 't_pfg30_k',\n",
       "       'tcclow_sfc_perc', 'tccmedium_sfc_perc', 'wdir_100m_dn', 'wdir_10m_dn',\n",
       "       'wdir_pfg30_dn', 'wdir_pl925_dn', 'wsp_100m_ms', 'wsp_10m_ms',\n",
       "       'wsp_pfg30_ms', 'wsp_pl925_ms', 'created_on', 'azimuth', 'elevation',\n",
       "       'day_name', 'month_name'],\n",
       "      dtype='object')"
      ]
     },
     "execution_count": 8,
     "metadata": {},
     "output_type": "execute_result"
    }
   ],
   "source": [
    "df.columns"
   ]
  },
  {
   "cell_type": "code",
   "execution_count": 9,
   "metadata": {
    "ExecuteTime": {
     "end_time": "2020-07-31T08:05:15.888477Z",
     "start_time": "2020-07-31T08:05:15.833321Z"
    },
    "scrolled": true
   },
   "outputs": [
    {
     "name": "stdout",
     "output_type": "stream",
     "text": [
      "Empty DataFrame\n",
      "Columns: [power_mw_obsnorm, power_available_mw_obsnorm, target_losses_norm]\n",
      "Index: []\n",
      "Empty DataFrame\n",
      "Columns: [dswrf_sfc_wm2, gust_sfc_ms, hpbl_sfc_m, msl_ms_pa, pottemp_80mto0m_K, q_2m_1, q_pfg30_1, r_pl925_perc, r_pl950_perc, shtfl_sfc_wm2, t_100m_k, t_2m_k, t_pfg30_k, tcclow_sfc_perc, tccmedium_sfc_perc, wdir_100m_dn, wdir_10m_dn, wdir_pfg30_dn, wdir_pl925_dn, wsp_100m_ms, wsp_10m_ms, wsp_pfg30_ms, wsp_pl925_ms, created_on, azimuth, elevation, day_name, month_name]\n",
      "Index: []\n",
      "\n",
      "[0 rows x 28 columns]\n"
     ]
    }
   ],
   "source": [
    "# testing if there are any missing values\n",
    "print(df_norm[df_norm.isnull().any(axis=1)])\n",
    "print(df_fin[df_fin.isnull().any(axis=1)])"
   ]
  },
  {
   "cell_type": "markdown",
   "metadata": {},
   "source": [
    "# Data Cleaning"
   ]
  },
  {
   "cell_type": "code",
   "execution_count": 10,
   "metadata": {
    "ExecuteTime": {
     "end_time": "2020-07-31T08:05:16.047730Z",
     "start_time": "2020-07-31T08:05:15.890275Z"
    }
   },
   "outputs": [
    {
     "data": {
      "text/html": [
       "<div>\n",
       "<style scoped>\n",
       "    .dataframe tbody tr th:only-of-type {\n",
       "        vertical-align: middle;\n",
       "    }\n",
       "\n",
       "    .dataframe tbody tr th {\n",
       "        vertical-align: top;\n",
       "    }\n",
       "\n",
       "    .dataframe thead th {\n",
       "        text-align: right;\n",
       "    }\n",
       "</style>\n",
       "<table border=\"1\" class=\"dataframe\">\n",
       "  <thead>\n",
       "    <tr style=\"text-align: right;\">\n",
       "      <th></th>\n",
       "      <th>power_mw_obsnorm</th>\n",
       "      <th>power_available_mw_obsnorm</th>\n",
       "      <th>target_losses_norm</th>\n",
       "      <th>dswrf_sfc_wm2</th>\n",
       "      <th>gust_sfc_ms</th>\n",
       "      <th>hpbl_sfc_m</th>\n",
       "      <th>msl_ms_pa</th>\n",
       "      <th>pottemp_80mto0m_K</th>\n",
       "      <th>q_2m_1</th>\n",
       "      <th>q_pfg30_1</th>\n",
       "      <th>...</th>\n",
       "      <th>wdir_pl925_dn</th>\n",
       "      <th>wsp_100m_ms</th>\n",
       "      <th>wsp_10m_ms</th>\n",
       "      <th>wsp_pfg30_ms</th>\n",
       "      <th>wsp_pl925_ms</th>\n",
       "      <th>created_on</th>\n",
       "      <th>azimuth</th>\n",
       "      <th>elevation</th>\n",
       "      <th>day_name</th>\n",
       "      <th>month_name</th>\n",
       "    </tr>\n",
       "  </thead>\n",
       "  <tbody>\n",
       "    <tr>\n",
       "      <th>2018-01-01 07:00:00+01:00</th>\n",
       "      <td>0.561235</td>\n",
       "      <td>0.933616</td>\n",
       "      <td>0.372381</td>\n",
       "      <td>0.000000</td>\n",
       "      <td>16.777032</td>\n",
       "      <td>1349.927656</td>\n",
       "      <td>99212.062500</td>\n",
       "      <td>0.559356</td>\n",
       "      <td>0.005105</td>\n",
       "      <td>0.004852</td>\n",
       "      <td>...</td>\n",
       "      <td>58.963042</td>\n",
       "      <td>16.548291</td>\n",
       "      <td>9.772748</td>\n",
       "      <td>16.622077</td>\n",
       "      <td>21.963719</td>\n",
       "      <td>2018-01-01 00:00:00+00:00</td>\n",
       "      <td>111.880959</td>\n",
       "      <td>-12.132894</td>\n",
       "      <td>Monday</td>\n",
       "      <td>January</td>\n",
       "    </tr>\n",
       "    <tr>\n",
       "      <th>2018-01-01 07:10:00+01:00</th>\n",
       "      <td>0.512618</td>\n",
       "      <td>0.958089</td>\n",
       "      <td>0.445471</td>\n",
       "      <td>0.000000</td>\n",
       "      <td>16.748651</td>\n",
       "      <td>1350.376965</td>\n",
       "      <td>99220.020833</td>\n",
       "      <td>0.554256</td>\n",
       "      <td>0.005088</td>\n",
       "      <td>0.004833</td>\n",
       "      <td>...</td>\n",
       "      <td>60.237190</td>\n",
       "      <td>16.589409</td>\n",
       "      <td>9.804977</td>\n",
       "      <td>16.657162</td>\n",
       "      <td>21.955989</td>\n",
       "      <td>2018-01-01 00:00:00+00:00</td>\n",
       "      <td>113.717751</td>\n",
       "      <td>-10.743970</td>\n",
       "      <td>Monday</td>\n",
       "      <td>January</td>\n",
       "    </tr>\n",
       "    <tr>\n",
       "      <th>2018-01-01 07:20:00+01:00</th>\n",
       "      <td>0.494356</td>\n",
       "      <td>0.966840</td>\n",
       "      <td>0.472484</td>\n",
       "      <td>0.000000</td>\n",
       "      <td>16.720270</td>\n",
       "      <td>1350.826273</td>\n",
       "      <td>99227.979167</td>\n",
       "      <td>0.549156</td>\n",
       "      <td>0.005072</td>\n",
       "      <td>0.004815</td>\n",
       "      <td>...</td>\n",
       "      <td>61.511338</td>\n",
       "      <td>16.630528</td>\n",
       "      <td>9.837206</td>\n",
       "      <td>16.692246</td>\n",
       "      <td>21.948260</td>\n",
       "      <td>2018-01-01 00:00:00+00:00</td>\n",
       "      <td>115.554543</td>\n",
       "      <td>-9.355046</td>\n",
       "      <td>Monday</td>\n",
       "      <td>January</td>\n",
       "    </tr>\n",
       "    <tr>\n",
       "      <th>2018-01-01 07:30:00+01:00</th>\n",
       "      <td>0.484470</td>\n",
       "      <td>0.970603</td>\n",
       "      <td>0.486133</td>\n",
       "      <td>0.000000</td>\n",
       "      <td>16.691888</td>\n",
       "      <td>1351.275581</td>\n",
       "      <td>99235.937500</td>\n",
       "      <td>0.544055</td>\n",
       "      <td>0.005055</td>\n",
       "      <td>0.004796</td>\n",
       "      <td>...</td>\n",
       "      <td>62.785487</td>\n",
       "      <td>16.671646</td>\n",
       "      <td>9.869435</td>\n",
       "      <td>16.727331</td>\n",
       "      <td>21.940530</td>\n",
       "      <td>2018-01-01 00:00:00+00:00</td>\n",
       "      <td>117.391335</td>\n",
       "      <td>-7.966123</td>\n",
       "      <td>Monday</td>\n",
       "      <td>January</td>\n",
       "    </tr>\n",
       "    <tr>\n",
       "      <th>2018-01-01 07:40:00+01:00</th>\n",
       "      <td>0.509116</td>\n",
       "      <td>0.983485</td>\n",
       "      <td>0.474370</td>\n",
       "      <td>0.000000</td>\n",
       "      <td>16.663507</td>\n",
       "      <td>1351.724889</td>\n",
       "      <td>99243.895833</td>\n",
       "      <td>0.538955</td>\n",
       "      <td>0.005038</td>\n",
       "      <td>0.004777</td>\n",
       "      <td>...</td>\n",
       "      <td>64.059635</td>\n",
       "      <td>16.712765</td>\n",
       "      <td>9.901665</td>\n",
       "      <td>16.762416</td>\n",
       "      <td>21.932800</td>\n",
       "      <td>2018-01-01 00:00:00+00:00</td>\n",
       "      <td>119.228127</td>\n",
       "      <td>-6.577199</td>\n",
       "      <td>Monday</td>\n",
       "      <td>January</td>\n",
       "    </tr>\n",
       "    <tr>\n",
       "      <th>2018-01-01 07:50:00+01:00</th>\n",
       "      <td>0.513224</td>\n",
       "      <td>0.988892</td>\n",
       "      <td>0.475668</td>\n",
       "      <td>0.000000</td>\n",
       "      <td>16.635126</td>\n",
       "      <td>1352.174198</td>\n",
       "      <td>99251.854167</td>\n",
       "      <td>0.533855</td>\n",
       "      <td>0.005022</td>\n",
       "      <td>0.004758</td>\n",
       "      <td>...</td>\n",
       "      <td>65.333783</td>\n",
       "      <td>16.753883</td>\n",
       "      <td>9.933894</td>\n",
       "      <td>16.797500</td>\n",
       "      <td>21.925071</td>\n",
       "      <td>2018-01-01 00:00:00+00:00</td>\n",
       "      <td>121.064919</td>\n",
       "      <td>-5.188276</td>\n",
       "      <td>Monday</td>\n",
       "      <td>January</td>\n",
       "    </tr>\n",
       "    <tr>\n",
       "      <th>2018-01-01 08:00:00+01:00</th>\n",
       "      <td>0.443089</td>\n",
       "      <td>0.989338</td>\n",
       "      <td>0.546249</td>\n",
       "      <td>0.000000</td>\n",
       "      <td>16.606744</td>\n",
       "      <td>1352.623506</td>\n",
       "      <td>99259.812500</td>\n",
       "      <td>0.528755</td>\n",
       "      <td>0.005005</td>\n",
       "      <td>0.004739</td>\n",
       "      <td>...</td>\n",
       "      <td>66.607932</td>\n",
       "      <td>16.795002</td>\n",
       "      <td>9.966123</td>\n",
       "      <td>16.832585</td>\n",
       "      <td>21.917341</td>\n",
       "      <td>2018-01-01 00:00:00+00:00</td>\n",
       "      <td>122.901711</td>\n",
       "      <td>-3.799353</td>\n",
       "      <td>Monday</td>\n",
       "      <td>January</td>\n",
       "    </tr>\n",
       "    <tr>\n",
       "      <th>2018-01-01 08:10:00+01:00</th>\n",
       "      <td>0.445928</td>\n",
       "      <td>0.976663</td>\n",
       "      <td>0.530735</td>\n",
       "      <td>0.000000</td>\n",
       "      <td>16.630715</td>\n",
       "      <td>1358.166457</td>\n",
       "      <td>99273.179167</td>\n",
       "      <td>0.527215</td>\n",
       "      <td>0.004983</td>\n",
       "      <td>0.004716</td>\n",
       "      <td>...</td>\n",
       "      <td>67.739224</td>\n",
       "      <td>16.860364</td>\n",
       "      <td>10.003695</td>\n",
       "      <td>16.877704</td>\n",
       "      <td>21.956402</td>\n",
       "      <td>2018-01-01 00:00:00+00:00</td>\n",
       "      <td>124.837074</td>\n",
       "      <td>-2.578109</td>\n",
       "      <td>Monday</td>\n",
       "      <td>January</td>\n",
       "    </tr>\n",
       "    <tr>\n",
       "      <th>2018-01-01 08:20:00+01:00</th>\n",
       "      <td>0.438881</td>\n",
       "      <td>0.985819</td>\n",
       "      <td>0.546937</td>\n",
       "      <td>0.000000</td>\n",
       "      <td>16.654685</td>\n",
       "      <td>1363.709408</td>\n",
       "      <td>99286.545833</td>\n",
       "      <td>0.525675</td>\n",
       "      <td>0.004962</td>\n",
       "      <td>0.004693</td>\n",
       "      <td>...</td>\n",
       "      <td>68.870516</td>\n",
       "      <td>16.925726</td>\n",
       "      <td>10.041266</td>\n",
       "      <td>16.922823</td>\n",
       "      <td>21.995463</td>\n",
       "      <td>2018-01-01 00:00:00+00:00</td>\n",
       "      <td>126.772438</td>\n",
       "      <td>-1.356866</td>\n",
       "      <td>Monday</td>\n",
       "      <td>January</td>\n",
       "    </tr>\n",
       "    <tr>\n",
       "      <th>2018-01-01 08:30:00+01:00</th>\n",
       "      <td>0.420594</td>\n",
       "      <td>0.975629</td>\n",
       "      <td>0.555035</td>\n",
       "      <td>0.000000</td>\n",
       "      <td>16.678656</td>\n",
       "      <td>1369.252360</td>\n",
       "      <td>99299.912500</td>\n",
       "      <td>0.524135</td>\n",
       "      <td>0.004940</td>\n",
       "      <td>0.004670</td>\n",
       "      <td>...</td>\n",
       "      <td>70.001808</td>\n",
       "      <td>16.991088</td>\n",
       "      <td>10.078838</td>\n",
       "      <td>16.967941</td>\n",
       "      <td>22.034523</td>\n",
       "      <td>2018-01-01 00:00:00+00:00</td>\n",
       "      <td>128.707809</td>\n",
       "      <td>-0.135623</td>\n",
       "      <td>Monday</td>\n",
       "      <td>January</td>\n",
       "    </tr>\n",
       "    <tr>\n",
       "      <th>2018-01-01 08:40:00+01:00</th>\n",
       "      <td>0.448083</td>\n",
       "      <td>0.970493</td>\n",
       "      <td>0.522409</td>\n",
       "      <td>0.000000</td>\n",
       "      <td>16.702626</td>\n",
       "      <td>1374.795311</td>\n",
       "      <td>99313.279167</td>\n",
       "      <td>0.522595</td>\n",
       "      <td>0.004918</td>\n",
       "      <td>0.004647</td>\n",
       "      <td>...</td>\n",
       "      <td>71.133100</td>\n",
       "      <td>17.056450</td>\n",
       "      <td>10.116409</td>\n",
       "      <td>17.013060</td>\n",
       "      <td>22.073584</td>\n",
       "      <td>2018-01-01 00:00:00+00:00</td>\n",
       "      <td>130.643173</td>\n",
       "      <td>1.085621</td>\n",
       "      <td>Monday</td>\n",
       "      <td>January</td>\n",
       "    </tr>\n",
       "    <tr>\n",
       "      <th>2018-01-01 08:50:00+01:00</th>\n",
       "      <td>0.507761</td>\n",
       "      <td>0.982027</td>\n",
       "      <td>0.474266</td>\n",
       "      <td>0.000000</td>\n",
       "      <td>16.726597</td>\n",
       "      <td>1380.338262</td>\n",
       "      <td>99326.645833</td>\n",
       "      <td>0.521056</td>\n",
       "      <td>0.004897</td>\n",
       "      <td>0.004624</td>\n",
       "      <td>...</td>\n",
       "      <td>72.264392</td>\n",
       "      <td>17.121812</td>\n",
       "      <td>10.153981</td>\n",
       "      <td>17.058179</td>\n",
       "      <td>22.112645</td>\n",
       "      <td>2018-01-01 00:00:00+00:00</td>\n",
       "      <td>132.578537</td>\n",
       "      <td>2.306864</td>\n",
       "      <td>Monday</td>\n",
       "      <td>January</td>\n",
       "    </tr>\n",
       "    <tr>\n",
       "      <th>2018-01-01 09:00:00+01:00</th>\n",
       "      <td>0.515410</td>\n",
       "      <td>0.990189</td>\n",
       "      <td>0.474779</td>\n",
       "      <td>0.000000</td>\n",
       "      <td>16.750567</td>\n",
       "      <td>1385.881213</td>\n",
       "      <td>99340.012500</td>\n",
       "      <td>0.519516</td>\n",
       "      <td>0.004875</td>\n",
       "      <td>0.004601</td>\n",
       "      <td>...</td>\n",
       "      <td>73.395684</td>\n",
       "      <td>17.187174</td>\n",
       "      <td>10.191553</td>\n",
       "      <td>17.103298</td>\n",
       "      <td>22.151705</td>\n",
       "      <td>2018-01-01 00:00:00+00:00</td>\n",
       "      <td>134.513901</td>\n",
       "      <td>3.528108</td>\n",
       "      <td>Monday</td>\n",
       "      <td>January</td>\n",
       "    </tr>\n",
       "    <tr>\n",
       "      <th>2018-01-01 09:10:00+01:00</th>\n",
       "      <td>0.509176</td>\n",
       "      <td>0.997412</td>\n",
       "      <td>0.488236</td>\n",
       "      <td>5.000000</td>\n",
       "      <td>16.734426</td>\n",
       "      <td>1389.287330</td>\n",
       "      <td>99355.958333</td>\n",
       "      <td>0.510059</td>\n",
       "      <td>0.004845</td>\n",
       "      <td>0.004566</td>\n",
       "      <td>...</td>\n",
       "      <td>73.828494</td>\n",
       "      <td>17.123409</td>\n",
       "      <td>10.171993</td>\n",
       "      <td>17.004018</td>\n",
       "      <td>22.102663</td>\n",
       "      <td>2018-01-01 00:00:00+00:00</td>\n",
       "      <td>136.589859</td>\n",
       "      <td>4.519059</td>\n",
       "      <td>Monday</td>\n",
       "      <td>January</td>\n",
       "    </tr>\n",
       "    <tr>\n",
       "      <th>2018-01-01 09:20:00+01:00</th>\n",
       "      <td>0.507800</td>\n",
       "      <td>0.995547</td>\n",
       "      <td>0.487747</td>\n",
       "      <td>10.000000</td>\n",
       "      <td>16.718285</td>\n",
       "      <td>1392.693446</td>\n",
       "      <td>99371.904167</td>\n",
       "      <td>0.500602</td>\n",
       "      <td>0.004814</td>\n",
       "      <td>0.004532</td>\n",
       "      <td>...</td>\n",
       "      <td>74.261303</td>\n",
       "      <td>17.059644</td>\n",
       "      <td>10.152434</td>\n",
       "      <td>16.904738</td>\n",
       "      <td>22.053621</td>\n",
       "      <td>2018-01-01 00:00:00+00:00</td>\n",
       "      <td>138.665817</td>\n",
       "      <td>5.510011</td>\n",
       "      <td>Monday</td>\n",
       "      <td>January</td>\n",
       "    </tr>\n",
       "    <tr>\n",
       "      <th>2018-01-01 09:30:00+01:00</th>\n",
       "      <td>0.493642</td>\n",
       "      <td>0.984513</td>\n",
       "      <td>0.490871</td>\n",
       "      <td>15.000000</td>\n",
       "      <td>16.702144</td>\n",
       "      <td>1396.099563</td>\n",
       "      <td>99387.850000</td>\n",
       "      <td>0.491146</td>\n",
       "      <td>0.004784</td>\n",
       "      <td>0.004498</td>\n",
       "      <td>...</td>\n",
       "      <td>74.694113</td>\n",
       "      <td>16.995880</td>\n",
       "      <td>10.132875</td>\n",
       "      <td>16.805458</td>\n",
       "      <td>22.004580</td>\n",
       "      <td>2018-01-01 00:00:00+00:00</td>\n",
       "      <td>140.741791</td>\n",
       "      <td>6.500962</td>\n",
       "      <td>Monday</td>\n",
       "      <td>January</td>\n",
       "    </tr>\n",
       "    <tr>\n",
       "      <th>2018-01-01 09:40:00+01:00</th>\n",
       "      <td>0.491314</td>\n",
       "      <td>0.969716</td>\n",
       "      <td>0.478401</td>\n",
       "      <td>20.000000</td>\n",
       "      <td>16.686003</td>\n",
       "      <td>1399.505680</td>\n",
       "      <td>99403.795833</td>\n",
       "      <td>0.481689</td>\n",
       "      <td>0.004753</td>\n",
       "      <td>0.004463</td>\n",
       "      <td>...</td>\n",
       "      <td>75.126923</td>\n",
       "      <td>16.932115</td>\n",
       "      <td>10.113316</td>\n",
       "      <td>16.706178</td>\n",
       "      <td>21.955538</td>\n",
       "      <td>2018-01-01 00:00:00+00:00</td>\n",
       "      <td>142.817749</td>\n",
       "      <td>7.491914</td>\n",
       "      <td>Monday</td>\n",
       "      <td>January</td>\n",
       "    </tr>\n",
       "    <tr>\n",
       "      <th>2018-01-01 09:50:00+01:00</th>\n",
       "      <td>0.493315</td>\n",
       "      <td>0.977373</td>\n",
       "      <td>0.484059</td>\n",
       "      <td>25.000000</td>\n",
       "      <td>16.669861</td>\n",
       "      <td>1402.911796</td>\n",
       "      <td>99419.741667</td>\n",
       "      <td>0.472232</td>\n",
       "      <td>0.004723</td>\n",
       "      <td>0.004429</td>\n",
       "      <td>...</td>\n",
       "      <td>75.559733</td>\n",
       "      <td>16.868350</td>\n",
       "      <td>10.093757</td>\n",
       "      <td>16.606898</td>\n",
       "      <td>21.906496</td>\n",
       "      <td>2018-01-01 00:00:00+00:00</td>\n",
       "      <td>144.893707</td>\n",
       "      <td>8.482865</td>\n",
       "      <td>Monday</td>\n",
       "      <td>January</td>\n",
       "    </tr>\n",
       "    <tr>\n",
       "      <th>2018-01-01 10:00:00+01:00</th>\n",
       "      <td>0.442998</td>\n",
       "      <td>0.959186</td>\n",
       "      <td>0.516188</td>\n",
       "      <td>30.000000</td>\n",
       "      <td>16.653720</td>\n",
       "      <td>1406.317913</td>\n",
       "      <td>99435.687500</td>\n",
       "      <td>0.462775</td>\n",
       "      <td>0.004693</td>\n",
       "      <td>0.004395</td>\n",
       "      <td>...</td>\n",
       "      <td>75.992542</td>\n",
       "      <td>16.804585</td>\n",
       "      <td>10.074198</td>\n",
       "      <td>16.507619</td>\n",
       "      <td>21.857454</td>\n",
       "      <td>2018-01-01 00:00:00+00:00</td>\n",
       "      <td>146.969666</td>\n",
       "      <td>9.473817</td>\n",
       "      <td>Monday</td>\n",
       "      <td>January</td>\n",
       "    </tr>\n",
       "    <tr>\n",
       "      <th>2018-01-01 10:10:00+01:00</th>\n",
       "      <td>0.453715</td>\n",
       "      <td>0.984163</td>\n",
       "      <td>0.530448</td>\n",
       "      <td>36.666667</td>\n",
       "      <td>16.568608</td>\n",
       "      <td>1407.486273</td>\n",
       "      <td>99450.352083</td>\n",
       "      <td>0.451507</td>\n",
       "      <td>0.004680</td>\n",
       "      <td>0.004383</td>\n",
       "      <td>...</td>\n",
       "      <td>75.635201</td>\n",
       "      <td>16.665585</td>\n",
       "      <td>10.015075</td>\n",
       "      <td>16.349870</td>\n",
       "      <td>21.728300</td>\n",
       "      <td>2018-01-01 00:00:00+00:00</td>\n",
       "      <td>149.194626</td>\n",
       "      <td>10.169531</td>\n",
       "      <td>Monday</td>\n",
       "      <td>January</td>\n",
       "    </tr>\n",
       "    <tr>\n",
       "      <th>2018-01-01 10:20:00+01:00</th>\n",
       "      <td>0.459527</td>\n",
       "      <td>0.987907</td>\n",
       "      <td>0.528380</td>\n",
       "      <td>43.333333</td>\n",
       "      <td>16.483496</td>\n",
       "      <td>1408.654633</td>\n",
       "      <td>99465.016667</td>\n",
       "      <td>0.440239</td>\n",
       "      <td>0.004668</td>\n",
       "      <td>0.004370</td>\n",
       "      <td>...</td>\n",
       "      <td>75.277860</td>\n",
       "      <td>16.526586</td>\n",
       "      <td>9.955951</td>\n",
       "      <td>16.192121</td>\n",
       "      <td>21.599147</td>\n",
       "      <td>2018-01-01 00:00:00+00:00</td>\n",
       "      <td>151.419571</td>\n",
       "      <td>10.865244</td>\n",
       "      <td>Monday</td>\n",
       "      <td>January</td>\n",
       "    </tr>\n",
       "    <tr>\n",
       "      <th>2018-01-01 10:30:00+01:00</th>\n",
       "      <td>0.479811</td>\n",
       "      <td>0.987158</td>\n",
       "      <td>0.507347</td>\n",
       "      <td>50.000000</td>\n",
       "      <td>16.398383</td>\n",
       "      <td>1409.822993</td>\n",
       "      <td>99479.681250</td>\n",
       "      <td>0.428971</td>\n",
       "      <td>0.004655</td>\n",
       "      <td>0.004358</td>\n",
       "      <td>...</td>\n",
       "      <td>74.920518</td>\n",
       "      <td>16.387586</td>\n",
       "      <td>9.896828</td>\n",
       "      <td>16.034373</td>\n",
       "      <td>21.469993</td>\n",
       "      <td>2018-01-01 00:00:00+00:00</td>\n",
       "      <td>153.644531</td>\n",
       "      <td>11.560957</td>\n",
       "      <td>Monday</td>\n",
       "      <td>January</td>\n",
       "    </tr>\n",
       "    <tr>\n",
       "      <th>2018-01-01 10:40:00+01:00</th>\n",
       "      <td>0.448118</td>\n",
       "      <td>0.961814</td>\n",
       "      <td>0.513696</td>\n",
       "      <td>56.666667</td>\n",
       "      <td>16.313271</td>\n",
       "      <td>1410.991353</td>\n",
       "      <td>99494.345833</td>\n",
       "      <td>0.417702</td>\n",
       "      <td>0.004643</td>\n",
       "      <td>0.004346</td>\n",
       "      <td>...</td>\n",
       "      <td>74.563177</td>\n",
       "      <td>16.248587</td>\n",
       "      <td>9.837704</td>\n",
       "      <td>15.876624</td>\n",
       "      <td>21.340840</td>\n",
       "      <td>2018-01-01 00:00:00+00:00</td>\n",
       "      <td>155.869492</td>\n",
       "      <td>12.256671</td>\n",
       "      <td>Monday</td>\n",
       "      <td>January</td>\n",
       "    </tr>\n",
       "    <tr>\n",
       "      <th>2018-01-01 10:50:00+01:00</th>\n",
       "      <td>0.461936</td>\n",
       "      <td>0.971553</td>\n",
       "      <td>0.509617</td>\n",
       "      <td>63.333333</td>\n",
       "      <td>16.228159</td>\n",
       "      <td>1412.159714</td>\n",
       "      <td>99509.010417</td>\n",
       "      <td>0.406434</td>\n",
       "      <td>0.004630</td>\n",
       "      <td>0.004334</td>\n",
       "      <td>...</td>\n",
       "      <td>74.205836</td>\n",
       "      <td>16.109587</td>\n",
       "      <td>9.778581</td>\n",
       "      <td>15.718876</td>\n",
       "      <td>21.211687</td>\n",
       "      <td>2018-01-01 00:00:00+00:00</td>\n",
       "      <td>158.094437</td>\n",
       "      <td>12.952385</td>\n",
       "      <td>Monday</td>\n",
       "      <td>January</td>\n",
       "    </tr>\n",
       "    <tr>\n",
       "      <th>2018-01-01 11:00:00+01:00</th>\n",
       "      <td>0.475638</td>\n",
       "      <td>0.971460</td>\n",
       "      <td>0.495822</td>\n",
       "      <td>70.000000</td>\n",
       "      <td>16.143047</td>\n",
       "      <td>1413.328074</td>\n",
       "      <td>99523.675000</td>\n",
       "      <td>0.395166</td>\n",
       "      <td>0.004618</td>\n",
       "      <td>0.004322</td>\n",
       "      <td>...</td>\n",
       "      <td>73.848494</td>\n",
       "      <td>15.970588</td>\n",
       "      <td>9.719457</td>\n",
       "      <td>15.561127</td>\n",
       "      <td>21.082533</td>\n",
       "      <td>2018-01-01 00:00:00+00:00</td>\n",
       "      <td>160.319397</td>\n",
       "      <td>13.648098</td>\n",
       "      <td>Monday</td>\n",
       "      <td>January</td>\n",
       "    </tr>\n",
       "    <tr>\n",
       "      <th>2018-01-01 11:10:00+01:00</th>\n",
       "      <td>0.482426</td>\n",
       "      <td>0.985400</td>\n",
       "      <td>0.502974</td>\n",
       "      <td>77.083333</td>\n",
       "      <td>16.049737</td>\n",
       "      <td>1417.455724</td>\n",
       "      <td>99534.193750</td>\n",
       "      <td>0.368525</td>\n",
       "      <td>0.004612</td>\n",
       "      <td>0.004315</td>\n",
       "      <td>...</td>\n",
       "      <td>73.134113</td>\n",
       "      <td>15.890893</td>\n",
       "      <td>9.712395</td>\n",
       "      <td>15.485197</td>\n",
       "      <td>20.932718</td>\n",
       "      <td>2018-01-01 00:00:00+00:00</td>\n",
       "      <td>162.657715</td>\n",
       "      <td>13.992112</td>\n",
       "      <td>Monday</td>\n",
       "      <td>January</td>\n",
       "    </tr>\n",
       "    <tr>\n",
       "      <th>2018-01-01 11:20:00+01:00</th>\n",
       "      <td>0.485614</td>\n",
       "      <td>0.986761</td>\n",
       "      <td>0.501146</td>\n",
       "      <td>84.166667</td>\n",
       "      <td>15.956427</td>\n",
       "      <td>1421.583374</td>\n",
       "      <td>99544.712500</td>\n",
       "      <td>0.341884</td>\n",
       "      <td>0.004606</td>\n",
       "      <td>0.004308</td>\n",
       "      <td>...</td>\n",
       "      <td>72.419731</td>\n",
       "      <td>15.811198</td>\n",
       "      <td>9.705333</td>\n",
       "      <td>15.409267</td>\n",
       "      <td>20.782903</td>\n",
       "      <td>2018-01-01 00:00:00+00:00</td>\n",
       "      <td>164.996033</td>\n",
       "      <td>14.336126</td>\n",
       "      <td>Monday</td>\n",
       "      <td>January</td>\n",
       "    </tr>\n",
       "    <tr>\n",
       "      <th>2018-01-01 11:30:00+01:00</th>\n",
       "      <td>0.482185</td>\n",
       "      <td>0.974909</td>\n",
       "      <td>0.492724</td>\n",
       "      <td>91.250000</td>\n",
       "      <td>15.863118</td>\n",
       "      <td>1425.711024</td>\n",
       "      <td>99555.231250</td>\n",
       "      <td>0.315243</td>\n",
       "      <td>0.004600</td>\n",
       "      <td>0.004301</td>\n",
       "      <td>...</td>\n",
       "      <td>71.705349</td>\n",
       "      <td>15.731503</td>\n",
       "      <td>9.698271</td>\n",
       "      <td>15.333337</td>\n",
       "      <td>20.633087</td>\n",
       "      <td>2018-01-01 00:00:00+00:00</td>\n",
       "      <td>167.334351</td>\n",
       "      <td>14.680140</td>\n",
       "      <td>Monday</td>\n",
       "      <td>January</td>\n",
       "    </tr>\n",
       "    <tr>\n",
       "      <th>2018-01-01 11:40:00+01:00</th>\n",
       "      <td>0.475302</td>\n",
       "      <td>0.955353</td>\n",
       "      <td>0.480051</td>\n",
       "      <td>98.333333</td>\n",
       "      <td>15.769808</td>\n",
       "      <td>1429.838674</td>\n",
       "      <td>99565.750000</td>\n",
       "      <td>0.288602</td>\n",
       "      <td>0.004594</td>\n",
       "      <td>0.004294</td>\n",
       "      <td>...</td>\n",
       "      <td>70.990968</td>\n",
       "      <td>15.651808</td>\n",
       "      <td>9.691208</td>\n",
       "      <td>15.257407</td>\n",
       "      <td>20.483272</td>\n",
       "      <td>2018-01-01 00:00:00+00:00</td>\n",
       "      <td>169.672668</td>\n",
       "      <td>15.024155</td>\n",
       "      <td>Monday</td>\n",
       "      <td>January</td>\n",
       "    </tr>\n",
       "    <tr>\n",
       "      <th>2018-01-01 11:50:00+01:00</th>\n",
       "      <td>0.470200</td>\n",
       "      <td>0.944630</td>\n",
       "      <td>0.474430</td>\n",
       "      <td>105.416667</td>\n",
       "      <td>15.676499</td>\n",
       "      <td>1433.966324</td>\n",
       "      <td>99576.268750</td>\n",
       "      <td>0.261961</td>\n",
       "      <td>0.004588</td>\n",
       "      <td>0.004287</td>\n",
       "      <td>...</td>\n",
       "      <td>70.276586</td>\n",
       "      <td>15.572114</td>\n",
       "      <td>9.684146</td>\n",
       "      <td>15.181477</td>\n",
       "      <td>20.333457</td>\n",
       "      <td>2018-01-01 00:00:00+00:00</td>\n",
       "      <td>172.010986</td>\n",
       "      <td>15.368169</td>\n",
       "      <td>Monday</td>\n",
       "      <td>January</td>\n",
       "    </tr>\n",
       "    <tr>\n",
       "      <th>...</th>\n",
       "      <td>...</td>\n",
       "      <td>...</td>\n",
       "      <td>...</td>\n",
       "      <td>...</td>\n",
       "      <td>...</td>\n",
       "      <td>...</td>\n",
       "      <td>...</td>\n",
       "      <td>...</td>\n",
       "      <td>...</td>\n",
       "      <td>...</td>\n",
       "      <td>...</td>\n",
       "      <td>...</td>\n",
       "      <td>...</td>\n",
       "      <td>...</td>\n",
       "      <td>...</td>\n",
       "      <td>...</td>\n",
       "      <td>...</td>\n",
       "      <td>...</td>\n",
       "      <td>...</td>\n",
       "      <td>...</td>\n",
       "      <td>...</td>\n",
       "    </tr>\n",
       "    <tr>\n",
       "      <th>2019-06-24 21:00:00+02:00</th>\n",
       "      <td>0.216639</td>\n",
       "      <td>0.256998</td>\n",
       "      <td>0.040359</td>\n",
       "      <td>85.000000</td>\n",
       "      <td>11.557476</td>\n",
       "      <td>318.490647</td>\n",
       "      <td>102242.743750</td>\n",
       "      <td>1.182710</td>\n",
       "      <td>0.011610</td>\n",
       "      <td>0.011051</td>\n",
       "      <td>...</td>\n",
       "      <td>325.599432</td>\n",
       "      <td>9.667537</td>\n",
       "      <td>5.309792</td>\n",
       "      <td>9.705110</td>\n",
       "      <td>11.501172</td>\n",
       "      <td>2019-06-24 12:00:00+00:00</td>\n",
       "      <td>303.027679</td>\n",
       "      <td>4.107651</td>\n",
       "      <td>Monday</td>\n",
       "      <td>June</td>\n",
       "    </tr>\n",
       "    <tr>\n",
       "      <th>2019-06-24 21:10:00+02:00</th>\n",
       "      <td>0.203172</td>\n",
       "      <td>0.250765</td>\n",
       "      <td>0.047592</td>\n",
       "      <td>73.333333</td>\n",
       "      <td>11.629314</td>\n",
       "      <td>317.789513</td>\n",
       "      <td>102238.587500</td>\n",
       "      <td>1.263498</td>\n",
       "      <td>0.011584</td>\n",
       "      <td>0.011089</td>\n",
       "      <td>...</td>\n",
       "      <td>326.488343</td>\n",
       "      <td>9.733802</td>\n",
       "      <td>5.315305</td>\n",
       "      <td>9.773290</td>\n",
       "      <td>11.544396</td>\n",
       "      <td>2019-06-24 12:00:00+00:00</td>\n",
       "      <td>305.029602</td>\n",
       "      <td>2.848764</td>\n",
       "      <td>Monday</td>\n",
       "      <td>June</td>\n",
       "    </tr>\n",
       "    <tr>\n",
       "      <th>2019-06-24 21:20:00+02:00</th>\n",
       "      <td>0.191917</td>\n",
       "      <td>0.230352</td>\n",
       "      <td>0.038436</td>\n",
       "      <td>61.666667</td>\n",
       "      <td>11.701151</td>\n",
       "      <td>317.088380</td>\n",
       "      <td>102234.431250</td>\n",
       "      <td>1.344285</td>\n",
       "      <td>0.011558</td>\n",
       "      <td>0.011128</td>\n",
       "      <td>...</td>\n",
       "      <td>327.377255</td>\n",
       "      <td>9.800068</td>\n",
       "      <td>5.320818</td>\n",
       "      <td>9.841471</td>\n",
       "      <td>11.587620</td>\n",
       "      <td>2019-06-24 12:00:00+00:00</td>\n",
       "      <td>307.031525</td>\n",
       "      <td>1.589877</td>\n",
       "      <td>Monday</td>\n",
       "      <td>June</td>\n",
       "    </tr>\n",
       "    <tr>\n",
       "      <th>2019-06-24 21:30:00+02:00</th>\n",
       "      <td>0.187487</td>\n",
       "      <td>0.216915</td>\n",
       "      <td>0.029429</td>\n",
       "      <td>50.000000</td>\n",
       "      <td>11.772989</td>\n",
       "      <td>316.387246</td>\n",
       "      <td>102230.275000</td>\n",
       "      <td>1.425072</td>\n",
       "      <td>0.011533</td>\n",
       "      <td>0.011167</td>\n",
       "      <td>...</td>\n",
       "      <td>328.266166</td>\n",
       "      <td>9.866333</td>\n",
       "      <td>5.326332</td>\n",
       "      <td>9.909651</td>\n",
       "      <td>11.630843</td>\n",
       "      <td>2019-06-24 12:00:00+00:00</td>\n",
       "      <td>309.033447</td>\n",
       "      <td>0.330991</td>\n",
       "      <td>Monday</td>\n",
       "      <td>June</td>\n",
       "    </tr>\n",
       "    <tr>\n",
       "      <th>2019-06-24 21:40:00+02:00</th>\n",
       "      <td>0.182176</td>\n",
       "      <td>0.204867</td>\n",
       "      <td>0.022691</td>\n",
       "      <td>38.333333</td>\n",
       "      <td>11.844827</td>\n",
       "      <td>315.686112</td>\n",
       "      <td>102226.118750</td>\n",
       "      <td>1.505860</td>\n",
       "      <td>0.011507</td>\n",
       "      <td>0.011206</td>\n",
       "      <td>...</td>\n",
       "      <td>329.155077</td>\n",
       "      <td>9.932599</td>\n",
       "      <td>5.331845</td>\n",
       "      <td>9.977831</td>\n",
       "      <td>11.674067</td>\n",
       "      <td>2019-06-24 12:00:00+00:00</td>\n",
       "      <td>311.035339</td>\n",
       "      <td>-0.927896</td>\n",
       "      <td>Monday</td>\n",
       "      <td>June</td>\n",
       "    </tr>\n",
       "    <tr>\n",
       "      <th>2019-06-24 21:50:00+02:00</th>\n",
       "      <td>0.182254</td>\n",
       "      <td>0.202654</td>\n",
       "      <td>0.020400</td>\n",
       "      <td>26.666667</td>\n",
       "      <td>11.916665</td>\n",
       "      <td>314.984979</td>\n",
       "      <td>102221.962500</td>\n",
       "      <td>1.586647</td>\n",
       "      <td>0.011481</td>\n",
       "      <td>0.011244</td>\n",
       "      <td>...</td>\n",
       "      <td>330.043989</td>\n",
       "      <td>9.998864</td>\n",
       "      <td>5.337358</td>\n",
       "      <td>10.046011</td>\n",
       "      <td>11.717291</td>\n",
       "      <td>2019-06-24 12:00:00+00:00</td>\n",
       "      <td>313.037262</td>\n",
       "      <td>-2.186783</td>\n",
       "      <td>Monday</td>\n",
       "      <td>June</td>\n",
       "    </tr>\n",
       "    <tr>\n",
       "      <th>2019-06-24 22:00:00+02:00</th>\n",
       "      <td>0.185362</td>\n",
       "      <td>0.211324</td>\n",
       "      <td>0.025963</td>\n",
       "      <td>15.000000</td>\n",
       "      <td>11.988502</td>\n",
       "      <td>314.283845</td>\n",
       "      <td>102217.806250</td>\n",
       "      <td>1.667435</td>\n",
       "      <td>0.011455</td>\n",
       "      <td>0.011283</td>\n",
       "      <td>...</td>\n",
       "      <td>330.932900</td>\n",
       "      <td>10.065130</td>\n",
       "      <td>5.342872</td>\n",
       "      <td>10.114192</td>\n",
       "      <td>11.760515</td>\n",
       "      <td>2019-06-24 12:00:00+00:00</td>\n",
       "      <td>315.039185</td>\n",
       "      <td>-3.445670</td>\n",
       "      <td>Monday</td>\n",
       "      <td>June</td>\n",
       "    </tr>\n",
       "    <tr>\n",
       "      <th>2019-06-24 22:10:00+02:00</th>\n",
       "      <td>0.188070</td>\n",
       "      <td>0.214058</td>\n",
       "      <td>0.025988</td>\n",
       "      <td>13.333333</td>\n",
       "      <td>11.725931</td>\n",
       "      <td>306.243427</td>\n",
       "      <td>102218.605208</td>\n",
       "      <td>1.668280</td>\n",
       "      <td>0.011443</td>\n",
       "      <td>0.011264</td>\n",
       "      <td>...</td>\n",
       "      <td>331.975778</td>\n",
       "      <td>9.919988</td>\n",
       "      <td>5.233223</td>\n",
       "      <td>9.952978</td>\n",
       "      <td>11.763837</td>\n",
       "      <td>2019-06-24 12:00:00+00:00</td>\n",
       "      <td>317.114227</td>\n",
       "      <td>-4.425354</td>\n",
       "      <td>Monday</td>\n",
       "      <td>June</td>\n",
       "    </tr>\n",
       "    <tr>\n",
       "      <th>2019-06-24 22:20:00+02:00</th>\n",
       "      <td>0.194200</td>\n",
       "      <td>0.219124</td>\n",
       "      <td>0.024923</td>\n",
       "      <td>11.666667</td>\n",
       "      <td>11.463360</td>\n",
       "      <td>298.203009</td>\n",
       "      <td>102219.404167</td>\n",
       "      <td>1.669125</td>\n",
       "      <td>0.011431</td>\n",
       "      <td>0.011245</td>\n",
       "      <td>...</td>\n",
       "      <td>333.018657</td>\n",
       "      <td>9.774847</td>\n",
       "      <td>5.123574</td>\n",
       "      <td>9.791764</td>\n",
       "      <td>11.767159</td>\n",
       "      <td>2019-06-24 12:00:00+00:00</td>\n",
       "      <td>319.189270</td>\n",
       "      <td>-5.405038</td>\n",
       "      <td>Monday</td>\n",
       "      <td>June</td>\n",
       "    </tr>\n",
       "    <tr>\n",
       "      <th>2019-06-24 22:30:00+02:00</th>\n",
       "      <td>0.192372</td>\n",
       "      <td>0.212969</td>\n",
       "      <td>0.020597</td>\n",
       "      <td>10.000000</td>\n",
       "      <td>11.200789</td>\n",
       "      <td>290.162592</td>\n",
       "      <td>102220.203125</td>\n",
       "      <td>1.669970</td>\n",
       "      <td>0.011419</td>\n",
       "      <td>0.011227</td>\n",
       "      <td>...</td>\n",
       "      <td>334.061535</td>\n",
       "      <td>9.629705</td>\n",
       "      <td>5.013926</td>\n",
       "      <td>9.630549</td>\n",
       "      <td>11.770481</td>\n",
       "      <td>2019-06-24 12:00:00+00:00</td>\n",
       "      <td>321.264282</td>\n",
       "      <td>-6.384722</td>\n",
       "      <td>Monday</td>\n",
       "      <td>June</td>\n",
       "    </tr>\n",
       "    <tr>\n",
       "      <th>2019-06-24 22:40:00+02:00</th>\n",
       "      <td>0.198575</td>\n",
       "      <td>0.219905</td>\n",
       "      <td>0.021330</td>\n",
       "      <td>8.333333</td>\n",
       "      <td>10.938218</td>\n",
       "      <td>282.122174</td>\n",
       "      <td>102221.002083</td>\n",
       "      <td>1.670815</td>\n",
       "      <td>0.011407</td>\n",
       "      <td>0.011208</td>\n",
       "      <td>...</td>\n",
       "      <td>335.104413</td>\n",
       "      <td>9.484563</td>\n",
       "      <td>4.904277</td>\n",
       "      <td>9.469335</td>\n",
       "      <td>11.773803</td>\n",
       "      <td>2019-06-24 12:00:00+00:00</td>\n",
       "      <td>323.339325</td>\n",
       "      <td>-7.364406</td>\n",
       "      <td>Monday</td>\n",
       "      <td>June</td>\n",
       "    </tr>\n",
       "    <tr>\n",
       "      <th>2019-06-24 22:50:00+02:00</th>\n",
       "      <td>0.205993</td>\n",
       "      <td>0.233224</td>\n",
       "      <td>0.027231</td>\n",
       "      <td>6.666667</td>\n",
       "      <td>10.675648</td>\n",
       "      <td>274.081756</td>\n",
       "      <td>102221.801042</td>\n",
       "      <td>1.671661</td>\n",
       "      <td>0.011395</td>\n",
       "      <td>0.011189</td>\n",
       "      <td>...</td>\n",
       "      <td>336.147292</td>\n",
       "      <td>9.339422</td>\n",
       "      <td>4.794628</td>\n",
       "      <td>9.308121</td>\n",
       "      <td>11.777125</td>\n",
       "      <td>2019-06-24 12:00:00+00:00</td>\n",
       "      <td>325.414368</td>\n",
       "      <td>-8.344090</td>\n",
       "      <td>Monday</td>\n",
       "      <td>June</td>\n",
       "    </tr>\n",
       "    <tr>\n",
       "      <th>2019-06-24 23:00:00+02:00</th>\n",
       "      <td>0.217545</td>\n",
       "      <td>0.244731</td>\n",
       "      <td>0.027186</td>\n",
       "      <td>5.000000</td>\n",
       "      <td>10.413077</td>\n",
       "      <td>266.041338</td>\n",
       "      <td>102222.600000</td>\n",
       "      <td>1.672506</td>\n",
       "      <td>0.011383</td>\n",
       "      <td>0.011170</td>\n",
       "      <td>...</td>\n",
       "      <td>337.190170</td>\n",
       "      <td>9.194280</td>\n",
       "      <td>4.684980</td>\n",
       "      <td>9.146907</td>\n",
       "      <td>11.780447</td>\n",
       "      <td>2019-06-24 12:00:00+00:00</td>\n",
       "      <td>327.489410</td>\n",
       "      <td>-9.323773</td>\n",
       "      <td>Monday</td>\n",
       "      <td>June</td>\n",
       "    </tr>\n",
       "    <tr>\n",
       "      <th>2019-06-24 23:10:00+02:00</th>\n",
       "      <td>0.227216</td>\n",
       "      <td>0.256932</td>\n",
       "      <td>0.029716</td>\n",
       "      <td>6.666667</td>\n",
       "      <td>10.419259</td>\n",
       "      <td>263.108453</td>\n",
       "      <td>102220.170833</td>\n",
       "      <td>1.775417</td>\n",
       "      <td>0.011322</td>\n",
       "      <td>0.011087</td>\n",
       "      <td>...</td>\n",
       "      <td>337.628770</td>\n",
       "      <td>9.182074</td>\n",
       "      <td>4.666671</td>\n",
       "      <td>9.137680</td>\n",
       "      <td>11.699252</td>\n",
       "      <td>2019-06-24 12:00:00+00:00</td>\n",
       "      <td>329.711334</td>\n",
       "      <td>-10.006691</td>\n",
       "      <td>Monday</td>\n",
       "      <td>June</td>\n",
       "    </tr>\n",
       "    <tr>\n",
       "      <th>2019-06-24 23:20:00+02:00</th>\n",
       "      <td>0.235626</td>\n",
       "      <td>0.265051</td>\n",
       "      <td>0.029426</td>\n",
       "      <td>8.333333</td>\n",
       "      <td>10.425441</td>\n",
       "      <td>260.175568</td>\n",
       "      <td>102217.741667</td>\n",
       "      <td>1.878328</td>\n",
       "      <td>0.011262</td>\n",
       "      <td>0.011004</td>\n",
       "      <td>...</td>\n",
       "      <td>338.067370</td>\n",
       "      <td>9.169868</td>\n",
       "      <td>4.648362</td>\n",
       "      <td>9.128452</td>\n",
       "      <td>11.618058</td>\n",
       "      <td>2019-06-24 12:00:00+00:00</td>\n",
       "      <td>331.933258</td>\n",
       "      <td>-10.689608</td>\n",
       "      <td>Monday</td>\n",
       "      <td>June</td>\n",
       "    </tr>\n",
       "    <tr>\n",
       "      <th>2019-06-24 23:30:00+02:00</th>\n",
       "      <td>0.233299</td>\n",
       "      <td>0.272984</td>\n",
       "      <td>0.039685</td>\n",
       "      <td>10.000000</td>\n",
       "      <td>10.431624</td>\n",
       "      <td>257.242683</td>\n",
       "      <td>102215.312500</td>\n",
       "      <td>1.981239</td>\n",
       "      <td>0.011201</td>\n",
       "      <td>0.010921</td>\n",
       "      <td>...</td>\n",
       "      <td>338.505970</td>\n",
       "      <td>9.157662</td>\n",
       "      <td>4.630053</td>\n",
       "      <td>9.119225</td>\n",
       "      <td>11.536864</td>\n",
       "      <td>2019-06-24 12:00:00+00:00</td>\n",
       "      <td>334.155182</td>\n",
       "      <td>-11.372524</td>\n",
       "      <td>Monday</td>\n",
       "      <td>June</td>\n",
       "    </tr>\n",
       "    <tr>\n",
       "      <th>2019-06-24 23:40:00+02:00</th>\n",
       "      <td>0.226263</td>\n",
       "      <td>0.269613</td>\n",
       "      <td>0.043350</td>\n",
       "      <td>11.666667</td>\n",
       "      <td>10.437806</td>\n",
       "      <td>254.309798</td>\n",
       "      <td>102212.883333</td>\n",
       "      <td>2.084150</td>\n",
       "      <td>0.011141</td>\n",
       "      <td>0.010838</td>\n",
       "      <td>...</td>\n",
       "      <td>338.944569</td>\n",
       "      <td>9.145456</td>\n",
       "      <td>4.611744</td>\n",
       "      <td>9.109997</td>\n",
       "      <td>11.455669</td>\n",
       "      <td>2019-06-24 12:00:00+00:00</td>\n",
       "      <td>336.377106</td>\n",
       "      <td>-12.055442</td>\n",
       "      <td>Monday</td>\n",
       "      <td>June</td>\n",
       "    </tr>\n",
       "    <tr>\n",
       "      <th>2019-06-24 23:50:00+02:00</th>\n",
       "      <td>0.234115</td>\n",
       "      <td>0.273143</td>\n",
       "      <td>0.039029</td>\n",
       "      <td>13.333333</td>\n",
       "      <td>10.443989</td>\n",
       "      <td>251.376913</td>\n",
       "      <td>102210.454167</td>\n",
       "      <td>2.187061</td>\n",
       "      <td>0.011080</td>\n",
       "      <td>0.010754</td>\n",
       "      <td>...</td>\n",
       "      <td>339.383169</td>\n",
       "      <td>9.133250</td>\n",
       "      <td>4.593435</td>\n",
       "      <td>9.100770</td>\n",
       "      <td>11.374475</td>\n",
       "      <td>2019-06-24 12:00:00+00:00</td>\n",
       "      <td>338.599030</td>\n",
       "      <td>-12.738359</td>\n",
       "      <td>Monday</td>\n",
       "      <td>June</td>\n",
       "    </tr>\n",
       "    <tr>\n",
       "      <th>2019-06-25 00:00:00+02:00</th>\n",
       "      <td>0.244121</td>\n",
       "      <td>0.280193</td>\n",
       "      <td>0.036072</td>\n",
       "      <td>15.000000</td>\n",
       "      <td>10.450171</td>\n",
       "      <td>248.444028</td>\n",
       "      <td>102208.025000</td>\n",
       "      <td>2.289972</td>\n",
       "      <td>0.011020</td>\n",
       "      <td>0.010671</td>\n",
       "      <td>...</td>\n",
       "      <td>339.821769</td>\n",
       "      <td>9.121044</td>\n",
       "      <td>4.575126</td>\n",
       "      <td>9.091543</td>\n",
       "      <td>11.293280</td>\n",
       "      <td>2019-06-24 12:00:00+00:00</td>\n",
       "      <td>340.820953</td>\n",
       "      <td>-13.421276</td>\n",
       "      <td>Tuesday</td>\n",
       "      <td>June</td>\n",
       "    </tr>\n",
       "    <tr>\n",
       "      <th>2019-06-25 00:10:00+02:00</th>\n",
       "      <td>0.254759</td>\n",
       "      <td>0.286216</td>\n",
       "      <td>0.031458</td>\n",
       "      <td>13.333333</td>\n",
       "      <td>10.592318</td>\n",
       "      <td>255.100332</td>\n",
       "      <td>102212.227083</td>\n",
       "      <td>2.241607</td>\n",
       "      <td>0.010900</td>\n",
       "      <td>0.010521</td>\n",
       "      <td>...</td>\n",
       "      <td>339.736106</td>\n",
       "      <td>9.186255</td>\n",
       "      <td>4.601656</td>\n",
       "      <td>9.178767</td>\n",
       "      <td>11.360317</td>\n",
       "      <td>2019-06-24 12:00:00+00:00</td>\n",
       "      <td>343.152893</td>\n",
       "      <td>-13.752056</td>\n",
       "      <td>Tuesday</td>\n",
       "      <td>June</td>\n",
       "    </tr>\n",
       "    <tr>\n",
       "      <th>2019-06-25 00:20:00+02:00</th>\n",
       "      <td>0.269345</td>\n",
       "      <td>0.298966</td>\n",
       "      <td>0.029621</td>\n",
       "      <td>11.666667</td>\n",
       "      <td>10.734465</td>\n",
       "      <td>261.756637</td>\n",
       "      <td>102216.429167</td>\n",
       "      <td>2.193241</td>\n",
       "      <td>0.010779</td>\n",
       "      <td>0.010371</td>\n",
       "      <td>...</td>\n",
       "      <td>339.650443</td>\n",
       "      <td>9.251466</td>\n",
       "      <td>4.628187</td>\n",
       "      <td>9.265991</td>\n",
       "      <td>11.427353</td>\n",
       "      <td>2019-06-24 12:00:00+00:00</td>\n",
       "      <td>345.484863</td>\n",
       "      <td>-14.082835</td>\n",
       "      <td>Tuesday</td>\n",
       "      <td>June</td>\n",
       "    </tr>\n",
       "    <tr>\n",
       "      <th>2019-06-25 00:30:00+02:00</th>\n",
       "      <td>0.274299</td>\n",
       "      <td>0.304347</td>\n",
       "      <td>0.030047</td>\n",
       "      <td>10.000000</td>\n",
       "      <td>10.876611</td>\n",
       "      <td>268.412941</td>\n",
       "      <td>102220.631250</td>\n",
       "      <td>2.144876</td>\n",
       "      <td>0.010659</td>\n",
       "      <td>0.010221</td>\n",
       "      <td>...</td>\n",
       "      <td>339.564780</td>\n",
       "      <td>9.316676</td>\n",
       "      <td>4.654718</td>\n",
       "      <td>9.353215</td>\n",
       "      <td>11.494390</td>\n",
       "      <td>2019-06-24 12:00:00+00:00</td>\n",
       "      <td>347.816833</td>\n",
       "      <td>-14.413614</td>\n",
       "      <td>Tuesday</td>\n",
       "      <td>June</td>\n",
       "    </tr>\n",
       "    <tr>\n",
       "      <th>2019-06-25 00:40:00+02:00</th>\n",
       "      <td>0.286431</td>\n",
       "      <td>0.315729</td>\n",
       "      <td>0.029298</td>\n",
       "      <td>8.333333</td>\n",
       "      <td>11.018758</td>\n",
       "      <td>275.069245</td>\n",
       "      <td>102224.833333</td>\n",
       "      <td>2.096511</td>\n",
       "      <td>0.010538</td>\n",
       "      <td>0.010071</td>\n",
       "      <td>...</td>\n",
       "      <td>339.479117</td>\n",
       "      <td>9.381887</td>\n",
       "      <td>4.681249</td>\n",
       "      <td>9.440439</td>\n",
       "      <td>11.561426</td>\n",
       "      <td>2019-06-24 12:00:00+00:00</td>\n",
       "      <td>350.148773</td>\n",
       "      <td>-14.744394</td>\n",
       "      <td>Tuesday</td>\n",
       "      <td>June</td>\n",
       "    </tr>\n",
       "    <tr>\n",
       "      <th>2019-06-25 00:50:00+02:00</th>\n",
       "      <td>0.285040</td>\n",
       "      <td>0.312542</td>\n",
       "      <td>0.027502</td>\n",
       "      <td>6.666667</td>\n",
       "      <td>11.160905</td>\n",
       "      <td>281.725549</td>\n",
       "      <td>102229.035417</td>\n",
       "      <td>2.048146</td>\n",
       "      <td>0.010418</td>\n",
       "      <td>0.009921</td>\n",
       "      <td>...</td>\n",
       "      <td>339.393454</td>\n",
       "      <td>9.447098</td>\n",
       "      <td>4.707779</td>\n",
       "      <td>9.527663</td>\n",
       "      <td>11.628462</td>\n",
       "      <td>2019-06-24 12:00:00+00:00</td>\n",
       "      <td>352.480713</td>\n",
       "      <td>-15.075174</td>\n",
       "      <td>Tuesday</td>\n",
       "      <td>June</td>\n",
       "    </tr>\n",
       "    <tr>\n",
       "      <th>2019-06-25 01:00:00+02:00</th>\n",
       "      <td>0.285280</td>\n",
       "      <td>0.312500</td>\n",
       "      <td>0.027220</td>\n",
       "      <td>5.000000</td>\n",
       "      <td>11.303051</td>\n",
       "      <td>288.381853</td>\n",
       "      <td>102233.237500</td>\n",
       "      <td>1.999780</td>\n",
       "      <td>0.010298</td>\n",
       "      <td>0.009771</td>\n",
       "      <td>...</td>\n",
       "      <td>339.307791</td>\n",
       "      <td>9.512308</td>\n",
       "      <td>4.734310</td>\n",
       "      <td>9.614887</td>\n",
       "      <td>11.695499</td>\n",
       "      <td>2019-06-24 12:00:00+00:00</td>\n",
       "      <td>354.812683</td>\n",
       "      <td>-15.405953</td>\n",
       "      <td>Tuesday</td>\n",
       "      <td>June</td>\n",
       "    </tr>\n",
       "    <tr>\n",
       "      <th>2019-06-25 01:10:00+02:00</th>\n",
       "      <td>0.290788</td>\n",
       "      <td>0.317405</td>\n",
       "      <td>0.026618</td>\n",
       "      <td>4.500000</td>\n",
       "      <td>11.306282</td>\n",
       "      <td>287.746599</td>\n",
       "      <td>102230.889583</td>\n",
       "      <td>1.985828</td>\n",
       "      <td>0.010309</td>\n",
       "      <td>0.009823</td>\n",
       "      <td>...</td>\n",
       "      <td>339.734640</td>\n",
       "      <td>9.459637</td>\n",
       "      <td>4.688882</td>\n",
       "      <td>9.566945</td>\n",
       "      <td>11.535623</td>\n",
       "      <td>2019-06-24 12:00:00+00:00</td>\n",
       "      <td>297.177948</td>\n",
       "      <td>-15.353827</td>\n",
       "      <td>Tuesday</td>\n",
       "      <td>June</td>\n",
       "    </tr>\n",
       "    <tr>\n",
       "      <th>2019-06-25 01:20:00+02:00</th>\n",
       "      <td>0.297746</td>\n",
       "      <td>0.330850</td>\n",
       "      <td>0.033104</td>\n",
       "      <td>4.000000</td>\n",
       "      <td>11.309513</td>\n",
       "      <td>287.111345</td>\n",
       "      <td>102228.541667</td>\n",
       "      <td>1.971875</td>\n",
       "      <td>0.010321</td>\n",
       "      <td>0.009875</td>\n",
       "      <td>...</td>\n",
       "      <td>340.161489</td>\n",
       "      <td>9.406965</td>\n",
       "      <td>4.643454</td>\n",
       "      <td>9.519004</td>\n",
       "      <td>11.375747</td>\n",
       "      <td>2019-06-24 12:00:00+00:00</td>\n",
       "      <td>239.543228</td>\n",
       "      <td>-15.301699</td>\n",
       "      <td>Tuesday</td>\n",
       "      <td>June</td>\n",
       "    </tr>\n",
       "    <tr>\n",
       "      <th>2019-06-25 01:30:00+02:00</th>\n",
       "      <td>0.310582</td>\n",
       "      <td>0.341660</td>\n",
       "      <td>0.031078</td>\n",
       "      <td>3.500000</td>\n",
       "      <td>11.312744</td>\n",
       "      <td>286.476091</td>\n",
       "      <td>102226.193750</td>\n",
       "      <td>1.957923</td>\n",
       "      <td>0.010333</td>\n",
       "      <td>0.009926</td>\n",
       "      <td>...</td>\n",
       "      <td>340.588338</td>\n",
       "      <td>9.354294</td>\n",
       "      <td>4.598026</td>\n",
       "      <td>9.471062</td>\n",
       "      <td>11.215871</td>\n",
       "      <td>2019-06-24 12:00:00+00:00</td>\n",
       "      <td>181.908508</td>\n",
       "      <td>-15.249571</td>\n",
       "      <td>Tuesday</td>\n",
       "      <td>June</td>\n",
       "    </tr>\n",
       "    <tr>\n",
       "      <th>2019-06-25 01:40:00+02:00</th>\n",
       "      <td>0.308457</td>\n",
       "      <td>0.338645</td>\n",
       "      <td>0.030189</td>\n",
       "      <td>3.000000</td>\n",
       "      <td>11.315975</td>\n",
       "      <td>285.840837</td>\n",
       "      <td>102223.845833</td>\n",
       "      <td>1.943970</td>\n",
       "      <td>0.010344</td>\n",
       "      <td>0.009978</td>\n",
       "      <td>...</td>\n",
       "      <td>341.015187</td>\n",
       "      <td>9.301622</td>\n",
       "      <td>4.552598</td>\n",
       "      <td>9.423121</td>\n",
       "      <td>11.055995</td>\n",
       "      <td>2019-06-24 12:00:00+00:00</td>\n",
       "      <td>124.273781</td>\n",
       "      <td>-15.197444</td>\n",
       "      <td>Tuesday</td>\n",
       "      <td>June</td>\n",
       "    </tr>\n",
       "    <tr>\n",
       "      <th>2019-06-25 01:50:00+02:00</th>\n",
       "      <td>0.309148</td>\n",
       "      <td>0.339853</td>\n",
       "      <td>0.030705</td>\n",
       "      <td>2.500000</td>\n",
       "      <td>11.319206</td>\n",
       "      <td>285.205583</td>\n",
       "      <td>102221.497917</td>\n",
       "      <td>1.930018</td>\n",
       "      <td>0.010356</td>\n",
       "      <td>0.010030</td>\n",
       "      <td>...</td>\n",
       "      <td>341.442036</td>\n",
       "      <td>9.248951</td>\n",
       "      <td>4.507170</td>\n",
       "      <td>9.375179</td>\n",
       "      <td>10.896119</td>\n",
       "      <td>2019-06-24 12:00:00+00:00</td>\n",
       "      <td>66.639061</td>\n",
       "      <td>-15.145317</td>\n",
       "      <td>Tuesday</td>\n",
       "      <td>June</td>\n",
       "    </tr>\n",
       "  </tbody>\n",
       "</table>\n",
       "<p>70668 rows × 31 columns</p>\n",
       "</div>"
      ],
      "text/plain": [
       "                           power_mw_obsnorm  power_available_mw_obsnorm  \\\n",
       "2018-01-01 07:00:00+01:00          0.561235                    0.933616   \n",
       "2018-01-01 07:10:00+01:00          0.512618                    0.958089   \n",
       "2018-01-01 07:20:00+01:00          0.494356                    0.966840   \n",
       "2018-01-01 07:30:00+01:00          0.484470                    0.970603   \n",
       "2018-01-01 07:40:00+01:00          0.509116                    0.983485   \n",
       "2018-01-01 07:50:00+01:00          0.513224                    0.988892   \n",
       "2018-01-01 08:00:00+01:00          0.443089                    0.989338   \n",
       "2018-01-01 08:10:00+01:00          0.445928                    0.976663   \n",
       "2018-01-01 08:20:00+01:00          0.438881                    0.985819   \n",
       "2018-01-01 08:30:00+01:00          0.420594                    0.975629   \n",
       "2018-01-01 08:40:00+01:00          0.448083                    0.970493   \n",
       "2018-01-01 08:50:00+01:00          0.507761                    0.982027   \n",
       "2018-01-01 09:00:00+01:00          0.515410                    0.990189   \n",
       "2018-01-01 09:10:00+01:00          0.509176                    0.997412   \n",
       "2018-01-01 09:20:00+01:00          0.507800                    0.995547   \n",
       "2018-01-01 09:30:00+01:00          0.493642                    0.984513   \n",
       "2018-01-01 09:40:00+01:00          0.491314                    0.969716   \n",
       "2018-01-01 09:50:00+01:00          0.493315                    0.977373   \n",
       "2018-01-01 10:00:00+01:00          0.442998                    0.959186   \n",
       "2018-01-01 10:10:00+01:00          0.453715                    0.984163   \n",
       "2018-01-01 10:20:00+01:00          0.459527                    0.987907   \n",
       "2018-01-01 10:30:00+01:00          0.479811                    0.987158   \n",
       "2018-01-01 10:40:00+01:00          0.448118                    0.961814   \n",
       "2018-01-01 10:50:00+01:00          0.461936                    0.971553   \n",
       "2018-01-01 11:00:00+01:00          0.475638                    0.971460   \n",
       "2018-01-01 11:10:00+01:00          0.482426                    0.985400   \n",
       "2018-01-01 11:20:00+01:00          0.485614                    0.986761   \n",
       "2018-01-01 11:30:00+01:00          0.482185                    0.974909   \n",
       "2018-01-01 11:40:00+01:00          0.475302                    0.955353   \n",
       "2018-01-01 11:50:00+01:00          0.470200                    0.944630   \n",
       "...                                     ...                         ...   \n",
       "2019-06-24 21:00:00+02:00          0.216639                    0.256998   \n",
       "2019-06-24 21:10:00+02:00          0.203172                    0.250765   \n",
       "2019-06-24 21:20:00+02:00          0.191917                    0.230352   \n",
       "2019-06-24 21:30:00+02:00          0.187487                    0.216915   \n",
       "2019-06-24 21:40:00+02:00          0.182176                    0.204867   \n",
       "2019-06-24 21:50:00+02:00          0.182254                    0.202654   \n",
       "2019-06-24 22:00:00+02:00          0.185362                    0.211324   \n",
       "2019-06-24 22:10:00+02:00          0.188070                    0.214058   \n",
       "2019-06-24 22:20:00+02:00          0.194200                    0.219124   \n",
       "2019-06-24 22:30:00+02:00          0.192372                    0.212969   \n",
       "2019-06-24 22:40:00+02:00          0.198575                    0.219905   \n",
       "2019-06-24 22:50:00+02:00          0.205993                    0.233224   \n",
       "2019-06-24 23:00:00+02:00          0.217545                    0.244731   \n",
       "2019-06-24 23:10:00+02:00          0.227216                    0.256932   \n",
       "2019-06-24 23:20:00+02:00          0.235626                    0.265051   \n",
       "2019-06-24 23:30:00+02:00          0.233299                    0.272984   \n",
       "2019-06-24 23:40:00+02:00          0.226263                    0.269613   \n",
       "2019-06-24 23:50:00+02:00          0.234115                    0.273143   \n",
       "2019-06-25 00:00:00+02:00          0.244121                    0.280193   \n",
       "2019-06-25 00:10:00+02:00          0.254759                    0.286216   \n",
       "2019-06-25 00:20:00+02:00          0.269345                    0.298966   \n",
       "2019-06-25 00:30:00+02:00          0.274299                    0.304347   \n",
       "2019-06-25 00:40:00+02:00          0.286431                    0.315729   \n",
       "2019-06-25 00:50:00+02:00          0.285040                    0.312542   \n",
       "2019-06-25 01:00:00+02:00          0.285280                    0.312500   \n",
       "2019-06-25 01:10:00+02:00          0.290788                    0.317405   \n",
       "2019-06-25 01:20:00+02:00          0.297746                    0.330850   \n",
       "2019-06-25 01:30:00+02:00          0.310582                    0.341660   \n",
       "2019-06-25 01:40:00+02:00          0.308457                    0.338645   \n",
       "2019-06-25 01:50:00+02:00          0.309148                    0.339853   \n",
       "\n",
       "                           target_losses_norm  dswrf_sfc_wm2  gust_sfc_ms  \\\n",
       "2018-01-01 07:00:00+01:00            0.372381       0.000000    16.777032   \n",
       "2018-01-01 07:10:00+01:00            0.445471       0.000000    16.748651   \n",
       "2018-01-01 07:20:00+01:00            0.472484       0.000000    16.720270   \n",
       "2018-01-01 07:30:00+01:00            0.486133       0.000000    16.691888   \n",
       "2018-01-01 07:40:00+01:00            0.474370       0.000000    16.663507   \n",
       "2018-01-01 07:50:00+01:00            0.475668       0.000000    16.635126   \n",
       "2018-01-01 08:00:00+01:00            0.546249       0.000000    16.606744   \n",
       "2018-01-01 08:10:00+01:00            0.530735       0.000000    16.630715   \n",
       "2018-01-01 08:20:00+01:00            0.546937       0.000000    16.654685   \n",
       "2018-01-01 08:30:00+01:00            0.555035       0.000000    16.678656   \n",
       "2018-01-01 08:40:00+01:00            0.522409       0.000000    16.702626   \n",
       "2018-01-01 08:50:00+01:00            0.474266       0.000000    16.726597   \n",
       "2018-01-01 09:00:00+01:00            0.474779       0.000000    16.750567   \n",
       "2018-01-01 09:10:00+01:00            0.488236       5.000000    16.734426   \n",
       "2018-01-01 09:20:00+01:00            0.487747      10.000000    16.718285   \n",
       "2018-01-01 09:30:00+01:00            0.490871      15.000000    16.702144   \n",
       "2018-01-01 09:40:00+01:00            0.478401      20.000000    16.686003   \n",
       "2018-01-01 09:50:00+01:00            0.484059      25.000000    16.669861   \n",
       "2018-01-01 10:00:00+01:00            0.516188      30.000000    16.653720   \n",
       "2018-01-01 10:10:00+01:00            0.530448      36.666667    16.568608   \n",
       "2018-01-01 10:20:00+01:00            0.528380      43.333333    16.483496   \n",
       "2018-01-01 10:30:00+01:00            0.507347      50.000000    16.398383   \n",
       "2018-01-01 10:40:00+01:00            0.513696      56.666667    16.313271   \n",
       "2018-01-01 10:50:00+01:00            0.509617      63.333333    16.228159   \n",
       "2018-01-01 11:00:00+01:00            0.495822      70.000000    16.143047   \n",
       "2018-01-01 11:10:00+01:00            0.502974      77.083333    16.049737   \n",
       "2018-01-01 11:20:00+01:00            0.501146      84.166667    15.956427   \n",
       "2018-01-01 11:30:00+01:00            0.492724      91.250000    15.863118   \n",
       "2018-01-01 11:40:00+01:00            0.480051      98.333333    15.769808   \n",
       "2018-01-01 11:50:00+01:00            0.474430     105.416667    15.676499   \n",
       "...                                       ...            ...          ...   \n",
       "2019-06-24 21:00:00+02:00            0.040359      85.000000    11.557476   \n",
       "2019-06-24 21:10:00+02:00            0.047592      73.333333    11.629314   \n",
       "2019-06-24 21:20:00+02:00            0.038436      61.666667    11.701151   \n",
       "2019-06-24 21:30:00+02:00            0.029429      50.000000    11.772989   \n",
       "2019-06-24 21:40:00+02:00            0.022691      38.333333    11.844827   \n",
       "2019-06-24 21:50:00+02:00            0.020400      26.666667    11.916665   \n",
       "2019-06-24 22:00:00+02:00            0.025963      15.000000    11.988502   \n",
       "2019-06-24 22:10:00+02:00            0.025988      13.333333    11.725931   \n",
       "2019-06-24 22:20:00+02:00            0.024923      11.666667    11.463360   \n",
       "2019-06-24 22:30:00+02:00            0.020597      10.000000    11.200789   \n",
       "2019-06-24 22:40:00+02:00            0.021330       8.333333    10.938218   \n",
       "2019-06-24 22:50:00+02:00            0.027231       6.666667    10.675648   \n",
       "2019-06-24 23:00:00+02:00            0.027186       5.000000    10.413077   \n",
       "2019-06-24 23:10:00+02:00            0.029716       6.666667    10.419259   \n",
       "2019-06-24 23:20:00+02:00            0.029426       8.333333    10.425441   \n",
       "2019-06-24 23:30:00+02:00            0.039685      10.000000    10.431624   \n",
       "2019-06-24 23:40:00+02:00            0.043350      11.666667    10.437806   \n",
       "2019-06-24 23:50:00+02:00            0.039029      13.333333    10.443989   \n",
       "2019-06-25 00:00:00+02:00            0.036072      15.000000    10.450171   \n",
       "2019-06-25 00:10:00+02:00            0.031458      13.333333    10.592318   \n",
       "2019-06-25 00:20:00+02:00            0.029621      11.666667    10.734465   \n",
       "2019-06-25 00:30:00+02:00            0.030047      10.000000    10.876611   \n",
       "2019-06-25 00:40:00+02:00            0.029298       8.333333    11.018758   \n",
       "2019-06-25 00:50:00+02:00            0.027502       6.666667    11.160905   \n",
       "2019-06-25 01:00:00+02:00            0.027220       5.000000    11.303051   \n",
       "2019-06-25 01:10:00+02:00            0.026618       4.500000    11.306282   \n",
       "2019-06-25 01:20:00+02:00            0.033104       4.000000    11.309513   \n",
       "2019-06-25 01:30:00+02:00            0.031078       3.500000    11.312744   \n",
       "2019-06-25 01:40:00+02:00            0.030189       3.000000    11.315975   \n",
       "2019-06-25 01:50:00+02:00            0.030705       2.500000    11.319206   \n",
       "\n",
       "                            hpbl_sfc_m      msl_ms_pa  pottemp_80mto0m_K  \\\n",
       "2018-01-01 07:00:00+01:00  1349.927656   99212.062500           0.559356   \n",
       "2018-01-01 07:10:00+01:00  1350.376965   99220.020833           0.554256   \n",
       "2018-01-01 07:20:00+01:00  1350.826273   99227.979167           0.549156   \n",
       "2018-01-01 07:30:00+01:00  1351.275581   99235.937500           0.544055   \n",
       "2018-01-01 07:40:00+01:00  1351.724889   99243.895833           0.538955   \n",
       "2018-01-01 07:50:00+01:00  1352.174198   99251.854167           0.533855   \n",
       "2018-01-01 08:00:00+01:00  1352.623506   99259.812500           0.528755   \n",
       "2018-01-01 08:10:00+01:00  1358.166457   99273.179167           0.527215   \n",
       "2018-01-01 08:20:00+01:00  1363.709408   99286.545833           0.525675   \n",
       "2018-01-01 08:30:00+01:00  1369.252360   99299.912500           0.524135   \n",
       "2018-01-01 08:40:00+01:00  1374.795311   99313.279167           0.522595   \n",
       "2018-01-01 08:50:00+01:00  1380.338262   99326.645833           0.521056   \n",
       "2018-01-01 09:00:00+01:00  1385.881213   99340.012500           0.519516   \n",
       "2018-01-01 09:10:00+01:00  1389.287330   99355.958333           0.510059   \n",
       "2018-01-01 09:20:00+01:00  1392.693446   99371.904167           0.500602   \n",
       "2018-01-01 09:30:00+01:00  1396.099563   99387.850000           0.491146   \n",
       "2018-01-01 09:40:00+01:00  1399.505680   99403.795833           0.481689   \n",
       "2018-01-01 09:50:00+01:00  1402.911796   99419.741667           0.472232   \n",
       "2018-01-01 10:00:00+01:00  1406.317913   99435.687500           0.462775   \n",
       "2018-01-01 10:10:00+01:00  1407.486273   99450.352083           0.451507   \n",
       "2018-01-01 10:20:00+01:00  1408.654633   99465.016667           0.440239   \n",
       "2018-01-01 10:30:00+01:00  1409.822993   99479.681250           0.428971   \n",
       "2018-01-01 10:40:00+01:00  1410.991353   99494.345833           0.417702   \n",
       "2018-01-01 10:50:00+01:00  1412.159714   99509.010417           0.406434   \n",
       "2018-01-01 11:00:00+01:00  1413.328074   99523.675000           0.395166   \n",
       "2018-01-01 11:10:00+01:00  1417.455724   99534.193750           0.368525   \n",
       "2018-01-01 11:20:00+01:00  1421.583374   99544.712500           0.341884   \n",
       "2018-01-01 11:30:00+01:00  1425.711024   99555.231250           0.315243   \n",
       "2018-01-01 11:40:00+01:00  1429.838674   99565.750000           0.288602   \n",
       "2018-01-01 11:50:00+01:00  1433.966324   99576.268750           0.261961   \n",
       "...                                ...            ...                ...   \n",
       "2019-06-24 21:00:00+02:00   318.490647  102242.743750           1.182710   \n",
       "2019-06-24 21:10:00+02:00   317.789513  102238.587500           1.263498   \n",
       "2019-06-24 21:20:00+02:00   317.088380  102234.431250           1.344285   \n",
       "2019-06-24 21:30:00+02:00   316.387246  102230.275000           1.425072   \n",
       "2019-06-24 21:40:00+02:00   315.686112  102226.118750           1.505860   \n",
       "2019-06-24 21:50:00+02:00   314.984979  102221.962500           1.586647   \n",
       "2019-06-24 22:00:00+02:00   314.283845  102217.806250           1.667435   \n",
       "2019-06-24 22:10:00+02:00   306.243427  102218.605208           1.668280   \n",
       "2019-06-24 22:20:00+02:00   298.203009  102219.404167           1.669125   \n",
       "2019-06-24 22:30:00+02:00   290.162592  102220.203125           1.669970   \n",
       "2019-06-24 22:40:00+02:00   282.122174  102221.002083           1.670815   \n",
       "2019-06-24 22:50:00+02:00   274.081756  102221.801042           1.671661   \n",
       "2019-06-24 23:00:00+02:00   266.041338  102222.600000           1.672506   \n",
       "2019-06-24 23:10:00+02:00   263.108453  102220.170833           1.775417   \n",
       "2019-06-24 23:20:00+02:00   260.175568  102217.741667           1.878328   \n",
       "2019-06-24 23:30:00+02:00   257.242683  102215.312500           1.981239   \n",
       "2019-06-24 23:40:00+02:00   254.309798  102212.883333           2.084150   \n",
       "2019-06-24 23:50:00+02:00   251.376913  102210.454167           2.187061   \n",
       "2019-06-25 00:00:00+02:00   248.444028  102208.025000           2.289972   \n",
       "2019-06-25 00:10:00+02:00   255.100332  102212.227083           2.241607   \n",
       "2019-06-25 00:20:00+02:00   261.756637  102216.429167           2.193241   \n",
       "2019-06-25 00:30:00+02:00   268.412941  102220.631250           2.144876   \n",
       "2019-06-25 00:40:00+02:00   275.069245  102224.833333           2.096511   \n",
       "2019-06-25 00:50:00+02:00   281.725549  102229.035417           2.048146   \n",
       "2019-06-25 01:00:00+02:00   288.381853  102233.237500           1.999780   \n",
       "2019-06-25 01:10:00+02:00   287.746599  102230.889583           1.985828   \n",
       "2019-06-25 01:20:00+02:00   287.111345  102228.541667           1.971875   \n",
       "2019-06-25 01:30:00+02:00   286.476091  102226.193750           1.957923   \n",
       "2019-06-25 01:40:00+02:00   285.840837  102223.845833           1.943970   \n",
       "2019-06-25 01:50:00+02:00   285.205583  102221.497917           1.930018   \n",
       "\n",
       "                             q_2m_1  q_pfg30_1  ...  wdir_pl925_dn  \\\n",
       "2018-01-01 07:00:00+01:00  0.005105   0.004852  ...      58.963042   \n",
       "2018-01-01 07:10:00+01:00  0.005088   0.004833  ...      60.237190   \n",
       "2018-01-01 07:20:00+01:00  0.005072   0.004815  ...      61.511338   \n",
       "2018-01-01 07:30:00+01:00  0.005055   0.004796  ...      62.785487   \n",
       "2018-01-01 07:40:00+01:00  0.005038   0.004777  ...      64.059635   \n",
       "2018-01-01 07:50:00+01:00  0.005022   0.004758  ...      65.333783   \n",
       "2018-01-01 08:00:00+01:00  0.005005   0.004739  ...      66.607932   \n",
       "2018-01-01 08:10:00+01:00  0.004983   0.004716  ...      67.739224   \n",
       "2018-01-01 08:20:00+01:00  0.004962   0.004693  ...      68.870516   \n",
       "2018-01-01 08:30:00+01:00  0.004940   0.004670  ...      70.001808   \n",
       "2018-01-01 08:40:00+01:00  0.004918   0.004647  ...      71.133100   \n",
       "2018-01-01 08:50:00+01:00  0.004897   0.004624  ...      72.264392   \n",
       "2018-01-01 09:00:00+01:00  0.004875   0.004601  ...      73.395684   \n",
       "2018-01-01 09:10:00+01:00  0.004845   0.004566  ...      73.828494   \n",
       "2018-01-01 09:20:00+01:00  0.004814   0.004532  ...      74.261303   \n",
       "2018-01-01 09:30:00+01:00  0.004784   0.004498  ...      74.694113   \n",
       "2018-01-01 09:40:00+01:00  0.004753   0.004463  ...      75.126923   \n",
       "2018-01-01 09:50:00+01:00  0.004723   0.004429  ...      75.559733   \n",
       "2018-01-01 10:00:00+01:00  0.004693   0.004395  ...      75.992542   \n",
       "2018-01-01 10:10:00+01:00  0.004680   0.004383  ...      75.635201   \n",
       "2018-01-01 10:20:00+01:00  0.004668   0.004370  ...      75.277860   \n",
       "2018-01-01 10:30:00+01:00  0.004655   0.004358  ...      74.920518   \n",
       "2018-01-01 10:40:00+01:00  0.004643   0.004346  ...      74.563177   \n",
       "2018-01-01 10:50:00+01:00  0.004630   0.004334  ...      74.205836   \n",
       "2018-01-01 11:00:00+01:00  0.004618   0.004322  ...      73.848494   \n",
       "2018-01-01 11:10:00+01:00  0.004612   0.004315  ...      73.134113   \n",
       "2018-01-01 11:20:00+01:00  0.004606   0.004308  ...      72.419731   \n",
       "2018-01-01 11:30:00+01:00  0.004600   0.004301  ...      71.705349   \n",
       "2018-01-01 11:40:00+01:00  0.004594   0.004294  ...      70.990968   \n",
       "2018-01-01 11:50:00+01:00  0.004588   0.004287  ...      70.276586   \n",
       "...                             ...        ...  ...            ...   \n",
       "2019-06-24 21:00:00+02:00  0.011610   0.011051  ...     325.599432   \n",
       "2019-06-24 21:10:00+02:00  0.011584   0.011089  ...     326.488343   \n",
       "2019-06-24 21:20:00+02:00  0.011558   0.011128  ...     327.377255   \n",
       "2019-06-24 21:30:00+02:00  0.011533   0.011167  ...     328.266166   \n",
       "2019-06-24 21:40:00+02:00  0.011507   0.011206  ...     329.155077   \n",
       "2019-06-24 21:50:00+02:00  0.011481   0.011244  ...     330.043989   \n",
       "2019-06-24 22:00:00+02:00  0.011455   0.011283  ...     330.932900   \n",
       "2019-06-24 22:10:00+02:00  0.011443   0.011264  ...     331.975778   \n",
       "2019-06-24 22:20:00+02:00  0.011431   0.011245  ...     333.018657   \n",
       "2019-06-24 22:30:00+02:00  0.011419   0.011227  ...     334.061535   \n",
       "2019-06-24 22:40:00+02:00  0.011407   0.011208  ...     335.104413   \n",
       "2019-06-24 22:50:00+02:00  0.011395   0.011189  ...     336.147292   \n",
       "2019-06-24 23:00:00+02:00  0.011383   0.011170  ...     337.190170   \n",
       "2019-06-24 23:10:00+02:00  0.011322   0.011087  ...     337.628770   \n",
       "2019-06-24 23:20:00+02:00  0.011262   0.011004  ...     338.067370   \n",
       "2019-06-24 23:30:00+02:00  0.011201   0.010921  ...     338.505970   \n",
       "2019-06-24 23:40:00+02:00  0.011141   0.010838  ...     338.944569   \n",
       "2019-06-24 23:50:00+02:00  0.011080   0.010754  ...     339.383169   \n",
       "2019-06-25 00:00:00+02:00  0.011020   0.010671  ...     339.821769   \n",
       "2019-06-25 00:10:00+02:00  0.010900   0.010521  ...     339.736106   \n",
       "2019-06-25 00:20:00+02:00  0.010779   0.010371  ...     339.650443   \n",
       "2019-06-25 00:30:00+02:00  0.010659   0.010221  ...     339.564780   \n",
       "2019-06-25 00:40:00+02:00  0.010538   0.010071  ...     339.479117   \n",
       "2019-06-25 00:50:00+02:00  0.010418   0.009921  ...     339.393454   \n",
       "2019-06-25 01:00:00+02:00  0.010298   0.009771  ...     339.307791   \n",
       "2019-06-25 01:10:00+02:00  0.010309   0.009823  ...     339.734640   \n",
       "2019-06-25 01:20:00+02:00  0.010321   0.009875  ...     340.161489   \n",
       "2019-06-25 01:30:00+02:00  0.010333   0.009926  ...     340.588338   \n",
       "2019-06-25 01:40:00+02:00  0.010344   0.009978  ...     341.015187   \n",
       "2019-06-25 01:50:00+02:00  0.010356   0.010030  ...     341.442036   \n",
       "\n",
       "                           wsp_100m_ms  wsp_10m_ms  wsp_pfg30_ms  \\\n",
       "2018-01-01 07:00:00+01:00    16.548291    9.772748     16.622077   \n",
       "2018-01-01 07:10:00+01:00    16.589409    9.804977     16.657162   \n",
       "2018-01-01 07:20:00+01:00    16.630528    9.837206     16.692246   \n",
       "2018-01-01 07:30:00+01:00    16.671646    9.869435     16.727331   \n",
       "2018-01-01 07:40:00+01:00    16.712765    9.901665     16.762416   \n",
       "2018-01-01 07:50:00+01:00    16.753883    9.933894     16.797500   \n",
       "2018-01-01 08:00:00+01:00    16.795002    9.966123     16.832585   \n",
       "2018-01-01 08:10:00+01:00    16.860364   10.003695     16.877704   \n",
       "2018-01-01 08:20:00+01:00    16.925726   10.041266     16.922823   \n",
       "2018-01-01 08:30:00+01:00    16.991088   10.078838     16.967941   \n",
       "2018-01-01 08:40:00+01:00    17.056450   10.116409     17.013060   \n",
       "2018-01-01 08:50:00+01:00    17.121812   10.153981     17.058179   \n",
       "2018-01-01 09:00:00+01:00    17.187174   10.191553     17.103298   \n",
       "2018-01-01 09:10:00+01:00    17.123409   10.171993     17.004018   \n",
       "2018-01-01 09:20:00+01:00    17.059644   10.152434     16.904738   \n",
       "2018-01-01 09:30:00+01:00    16.995880   10.132875     16.805458   \n",
       "2018-01-01 09:40:00+01:00    16.932115   10.113316     16.706178   \n",
       "2018-01-01 09:50:00+01:00    16.868350   10.093757     16.606898   \n",
       "2018-01-01 10:00:00+01:00    16.804585   10.074198     16.507619   \n",
       "2018-01-01 10:10:00+01:00    16.665585   10.015075     16.349870   \n",
       "2018-01-01 10:20:00+01:00    16.526586    9.955951     16.192121   \n",
       "2018-01-01 10:30:00+01:00    16.387586    9.896828     16.034373   \n",
       "2018-01-01 10:40:00+01:00    16.248587    9.837704     15.876624   \n",
       "2018-01-01 10:50:00+01:00    16.109587    9.778581     15.718876   \n",
       "2018-01-01 11:00:00+01:00    15.970588    9.719457     15.561127   \n",
       "2018-01-01 11:10:00+01:00    15.890893    9.712395     15.485197   \n",
       "2018-01-01 11:20:00+01:00    15.811198    9.705333     15.409267   \n",
       "2018-01-01 11:30:00+01:00    15.731503    9.698271     15.333337   \n",
       "2018-01-01 11:40:00+01:00    15.651808    9.691208     15.257407   \n",
       "2018-01-01 11:50:00+01:00    15.572114    9.684146     15.181477   \n",
       "...                                ...         ...           ...   \n",
       "2019-06-24 21:00:00+02:00     9.667537    5.309792      9.705110   \n",
       "2019-06-24 21:10:00+02:00     9.733802    5.315305      9.773290   \n",
       "2019-06-24 21:20:00+02:00     9.800068    5.320818      9.841471   \n",
       "2019-06-24 21:30:00+02:00     9.866333    5.326332      9.909651   \n",
       "2019-06-24 21:40:00+02:00     9.932599    5.331845      9.977831   \n",
       "2019-06-24 21:50:00+02:00     9.998864    5.337358     10.046011   \n",
       "2019-06-24 22:00:00+02:00    10.065130    5.342872     10.114192   \n",
       "2019-06-24 22:10:00+02:00     9.919988    5.233223      9.952978   \n",
       "2019-06-24 22:20:00+02:00     9.774847    5.123574      9.791764   \n",
       "2019-06-24 22:30:00+02:00     9.629705    5.013926      9.630549   \n",
       "2019-06-24 22:40:00+02:00     9.484563    4.904277      9.469335   \n",
       "2019-06-24 22:50:00+02:00     9.339422    4.794628      9.308121   \n",
       "2019-06-24 23:00:00+02:00     9.194280    4.684980      9.146907   \n",
       "2019-06-24 23:10:00+02:00     9.182074    4.666671      9.137680   \n",
       "2019-06-24 23:20:00+02:00     9.169868    4.648362      9.128452   \n",
       "2019-06-24 23:30:00+02:00     9.157662    4.630053      9.119225   \n",
       "2019-06-24 23:40:00+02:00     9.145456    4.611744      9.109997   \n",
       "2019-06-24 23:50:00+02:00     9.133250    4.593435      9.100770   \n",
       "2019-06-25 00:00:00+02:00     9.121044    4.575126      9.091543   \n",
       "2019-06-25 00:10:00+02:00     9.186255    4.601656      9.178767   \n",
       "2019-06-25 00:20:00+02:00     9.251466    4.628187      9.265991   \n",
       "2019-06-25 00:30:00+02:00     9.316676    4.654718      9.353215   \n",
       "2019-06-25 00:40:00+02:00     9.381887    4.681249      9.440439   \n",
       "2019-06-25 00:50:00+02:00     9.447098    4.707779      9.527663   \n",
       "2019-06-25 01:00:00+02:00     9.512308    4.734310      9.614887   \n",
       "2019-06-25 01:10:00+02:00     9.459637    4.688882      9.566945   \n",
       "2019-06-25 01:20:00+02:00     9.406965    4.643454      9.519004   \n",
       "2019-06-25 01:30:00+02:00     9.354294    4.598026      9.471062   \n",
       "2019-06-25 01:40:00+02:00     9.301622    4.552598      9.423121   \n",
       "2019-06-25 01:50:00+02:00     9.248951    4.507170      9.375179   \n",
       "\n",
       "                           wsp_pl925_ms                created_on     azimuth  \\\n",
       "2018-01-01 07:00:00+01:00     21.963719 2018-01-01 00:00:00+00:00  111.880959   \n",
       "2018-01-01 07:10:00+01:00     21.955989 2018-01-01 00:00:00+00:00  113.717751   \n",
       "2018-01-01 07:20:00+01:00     21.948260 2018-01-01 00:00:00+00:00  115.554543   \n",
       "2018-01-01 07:30:00+01:00     21.940530 2018-01-01 00:00:00+00:00  117.391335   \n",
       "2018-01-01 07:40:00+01:00     21.932800 2018-01-01 00:00:00+00:00  119.228127   \n",
       "2018-01-01 07:50:00+01:00     21.925071 2018-01-01 00:00:00+00:00  121.064919   \n",
       "2018-01-01 08:00:00+01:00     21.917341 2018-01-01 00:00:00+00:00  122.901711   \n",
       "2018-01-01 08:10:00+01:00     21.956402 2018-01-01 00:00:00+00:00  124.837074   \n",
       "2018-01-01 08:20:00+01:00     21.995463 2018-01-01 00:00:00+00:00  126.772438   \n",
       "2018-01-01 08:30:00+01:00     22.034523 2018-01-01 00:00:00+00:00  128.707809   \n",
       "2018-01-01 08:40:00+01:00     22.073584 2018-01-01 00:00:00+00:00  130.643173   \n",
       "2018-01-01 08:50:00+01:00     22.112645 2018-01-01 00:00:00+00:00  132.578537   \n",
       "2018-01-01 09:00:00+01:00     22.151705 2018-01-01 00:00:00+00:00  134.513901   \n",
       "2018-01-01 09:10:00+01:00     22.102663 2018-01-01 00:00:00+00:00  136.589859   \n",
       "2018-01-01 09:20:00+01:00     22.053621 2018-01-01 00:00:00+00:00  138.665817   \n",
       "2018-01-01 09:30:00+01:00     22.004580 2018-01-01 00:00:00+00:00  140.741791   \n",
       "2018-01-01 09:40:00+01:00     21.955538 2018-01-01 00:00:00+00:00  142.817749   \n",
       "2018-01-01 09:50:00+01:00     21.906496 2018-01-01 00:00:00+00:00  144.893707   \n",
       "2018-01-01 10:00:00+01:00     21.857454 2018-01-01 00:00:00+00:00  146.969666   \n",
       "2018-01-01 10:10:00+01:00     21.728300 2018-01-01 00:00:00+00:00  149.194626   \n",
       "2018-01-01 10:20:00+01:00     21.599147 2018-01-01 00:00:00+00:00  151.419571   \n",
       "2018-01-01 10:30:00+01:00     21.469993 2018-01-01 00:00:00+00:00  153.644531   \n",
       "2018-01-01 10:40:00+01:00     21.340840 2018-01-01 00:00:00+00:00  155.869492   \n",
       "2018-01-01 10:50:00+01:00     21.211687 2018-01-01 00:00:00+00:00  158.094437   \n",
       "2018-01-01 11:00:00+01:00     21.082533 2018-01-01 00:00:00+00:00  160.319397   \n",
       "2018-01-01 11:10:00+01:00     20.932718 2018-01-01 00:00:00+00:00  162.657715   \n",
       "2018-01-01 11:20:00+01:00     20.782903 2018-01-01 00:00:00+00:00  164.996033   \n",
       "2018-01-01 11:30:00+01:00     20.633087 2018-01-01 00:00:00+00:00  167.334351   \n",
       "2018-01-01 11:40:00+01:00     20.483272 2018-01-01 00:00:00+00:00  169.672668   \n",
       "2018-01-01 11:50:00+01:00     20.333457 2018-01-01 00:00:00+00:00  172.010986   \n",
       "...                                 ...                       ...         ...   \n",
       "2019-06-24 21:00:00+02:00     11.501172 2019-06-24 12:00:00+00:00  303.027679   \n",
       "2019-06-24 21:10:00+02:00     11.544396 2019-06-24 12:00:00+00:00  305.029602   \n",
       "2019-06-24 21:20:00+02:00     11.587620 2019-06-24 12:00:00+00:00  307.031525   \n",
       "2019-06-24 21:30:00+02:00     11.630843 2019-06-24 12:00:00+00:00  309.033447   \n",
       "2019-06-24 21:40:00+02:00     11.674067 2019-06-24 12:00:00+00:00  311.035339   \n",
       "2019-06-24 21:50:00+02:00     11.717291 2019-06-24 12:00:00+00:00  313.037262   \n",
       "2019-06-24 22:00:00+02:00     11.760515 2019-06-24 12:00:00+00:00  315.039185   \n",
       "2019-06-24 22:10:00+02:00     11.763837 2019-06-24 12:00:00+00:00  317.114227   \n",
       "2019-06-24 22:20:00+02:00     11.767159 2019-06-24 12:00:00+00:00  319.189270   \n",
       "2019-06-24 22:30:00+02:00     11.770481 2019-06-24 12:00:00+00:00  321.264282   \n",
       "2019-06-24 22:40:00+02:00     11.773803 2019-06-24 12:00:00+00:00  323.339325   \n",
       "2019-06-24 22:50:00+02:00     11.777125 2019-06-24 12:00:00+00:00  325.414368   \n",
       "2019-06-24 23:00:00+02:00     11.780447 2019-06-24 12:00:00+00:00  327.489410   \n",
       "2019-06-24 23:10:00+02:00     11.699252 2019-06-24 12:00:00+00:00  329.711334   \n",
       "2019-06-24 23:20:00+02:00     11.618058 2019-06-24 12:00:00+00:00  331.933258   \n",
       "2019-06-24 23:30:00+02:00     11.536864 2019-06-24 12:00:00+00:00  334.155182   \n",
       "2019-06-24 23:40:00+02:00     11.455669 2019-06-24 12:00:00+00:00  336.377106   \n",
       "2019-06-24 23:50:00+02:00     11.374475 2019-06-24 12:00:00+00:00  338.599030   \n",
       "2019-06-25 00:00:00+02:00     11.293280 2019-06-24 12:00:00+00:00  340.820953   \n",
       "2019-06-25 00:10:00+02:00     11.360317 2019-06-24 12:00:00+00:00  343.152893   \n",
       "2019-06-25 00:20:00+02:00     11.427353 2019-06-24 12:00:00+00:00  345.484863   \n",
       "2019-06-25 00:30:00+02:00     11.494390 2019-06-24 12:00:00+00:00  347.816833   \n",
       "2019-06-25 00:40:00+02:00     11.561426 2019-06-24 12:00:00+00:00  350.148773   \n",
       "2019-06-25 00:50:00+02:00     11.628462 2019-06-24 12:00:00+00:00  352.480713   \n",
       "2019-06-25 01:00:00+02:00     11.695499 2019-06-24 12:00:00+00:00  354.812683   \n",
       "2019-06-25 01:10:00+02:00     11.535623 2019-06-24 12:00:00+00:00  297.177948   \n",
       "2019-06-25 01:20:00+02:00     11.375747 2019-06-24 12:00:00+00:00  239.543228   \n",
       "2019-06-25 01:30:00+02:00     11.215871 2019-06-24 12:00:00+00:00  181.908508   \n",
       "2019-06-25 01:40:00+02:00     11.055995 2019-06-24 12:00:00+00:00  124.273781   \n",
       "2019-06-25 01:50:00+02:00     10.896119 2019-06-24 12:00:00+00:00   66.639061   \n",
       "\n",
       "                           elevation  day_name  month_name  \n",
       "2018-01-01 07:00:00+01:00 -12.132894    Monday     January  \n",
       "2018-01-01 07:10:00+01:00 -10.743970    Monday     January  \n",
       "2018-01-01 07:20:00+01:00  -9.355046    Monday     January  \n",
       "2018-01-01 07:30:00+01:00  -7.966123    Monday     January  \n",
       "2018-01-01 07:40:00+01:00  -6.577199    Monday     January  \n",
       "2018-01-01 07:50:00+01:00  -5.188276    Monday     January  \n",
       "2018-01-01 08:00:00+01:00  -3.799353    Monday     January  \n",
       "2018-01-01 08:10:00+01:00  -2.578109    Monday     January  \n",
       "2018-01-01 08:20:00+01:00  -1.356866    Monday     January  \n",
       "2018-01-01 08:30:00+01:00  -0.135623    Monday     January  \n",
       "2018-01-01 08:40:00+01:00   1.085621    Monday     January  \n",
       "2018-01-01 08:50:00+01:00   2.306864    Monday     January  \n",
       "2018-01-01 09:00:00+01:00   3.528108    Monday     January  \n",
       "2018-01-01 09:10:00+01:00   4.519059    Monday     January  \n",
       "2018-01-01 09:20:00+01:00   5.510011    Monday     January  \n",
       "2018-01-01 09:30:00+01:00   6.500962    Monday     January  \n",
       "2018-01-01 09:40:00+01:00   7.491914    Monday     January  \n",
       "2018-01-01 09:50:00+01:00   8.482865    Monday     January  \n",
       "2018-01-01 10:00:00+01:00   9.473817    Monday     January  \n",
       "2018-01-01 10:10:00+01:00  10.169531    Monday     January  \n",
       "2018-01-01 10:20:00+01:00  10.865244    Monday     January  \n",
       "2018-01-01 10:30:00+01:00  11.560957    Monday     January  \n",
       "2018-01-01 10:40:00+01:00  12.256671    Monday     January  \n",
       "2018-01-01 10:50:00+01:00  12.952385    Monday     January  \n",
       "2018-01-01 11:00:00+01:00  13.648098    Monday     January  \n",
       "2018-01-01 11:10:00+01:00  13.992112    Monday     January  \n",
       "2018-01-01 11:20:00+01:00  14.336126    Monday     January  \n",
       "2018-01-01 11:30:00+01:00  14.680140    Monday     January  \n",
       "2018-01-01 11:40:00+01:00  15.024155    Monday     January  \n",
       "2018-01-01 11:50:00+01:00  15.368169    Monday     January  \n",
       "...                              ...       ...         ...  \n",
       "2019-06-24 21:00:00+02:00   4.107651    Monday        June  \n",
       "2019-06-24 21:10:00+02:00   2.848764    Monday        June  \n",
       "2019-06-24 21:20:00+02:00   1.589877    Monday        June  \n",
       "2019-06-24 21:30:00+02:00   0.330991    Monday        June  \n",
       "2019-06-24 21:40:00+02:00  -0.927896    Monday        June  \n",
       "2019-06-24 21:50:00+02:00  -2.186783    Monday        June  \n",
       "2019-06-24 22:00:00+02:00  -3.445670    Monday        June  \n",
       "2019-06-24 22:10:00+02:00  -4.425354    Monday        June  \n",
       "2019-06-24 22:20:00+02:00  -5.405038    Monday        June  \n",
       "2019-06-24 22:30:00+02:00  -6.384722    Monday        June  \n",
       "2019-06-24 22:40:00+02:00  -7.364406    Monday        June  \n",
       "2019-06-24 22:50:00+02:00  -8.344090    Monday        June  \n",
       "2019-06-24 23:00:00+02:00  -9.323773    Monday        June  \n",
       "2019-06-24 23:10:00+02:00 -10.006691    Monday        June  \n",
       "2019-06-24 23:20:00+02:00 -10.689608    Monday        June  \n",
       "2019-06-24 23:30:00+02:00 -11.372524    Monday        June  \n",
       "2019-06-24 23:40:00+02:00 -12.055442    Monday        June  \n",
       "2019-06-24 23:50:00+02:00 -12.738359    Monday        June  \n",
       "2019-06-25 00:00:00+02:00 -13.421276   Tuesday        June  \n",
       "2019-06-25 00:10:00+02:00 -13.752056   Tuesday        June  \n",
       "2019-06-25 00:20:00+02:00 -14.082835   Tuesday        June  \n",
       "2019-06-25 00:30:00+02:00 -14.413614   Tuesday        June  \n",
       "2019-06-25 00:40:00+02:00 -14.744394   Tuesday        June  \n",
       "2019-06-25 00:50:00+02:00 -15.075174   Tuesday        June  \n",
       "2019-06-25 01:00:00+02:00 -15.405953   Tuesday        June  \n",
       "2019-06-25 01:10:00+02:00 -15.353827   Tuesday        June  \n",
       "2019-06-25 01:20:00+02:00 -15.301699   Tuesday        June  \n",
       "2019-06-25 01:30:00+02:00 -15.249571   Tuesday        June  \n",
       "2019-06-25 01:40:00+02:00 -15.197444   Tuesday        June  \n",
       "2019-06-25 01:50:00+02:00 -15.145317   Tuesday        June  \n",
       "\n",
       "[70668 rows x 31 columns]"
      ]
     },
     "execution_count": 10,
     "metadata": {},
     "output_type": "execute_result"
    }
   ],
   "source": [
    "# drop rows with NaN, since both datasets don't have the same timeframe\n",
    "df = df.dropna()\n",
    "df"
   ]
  },
  {
   "cell_type": "code",
   "execution_count": 11,
   "metadata": {
    "ExecuteTime": {
     "end_time": "2020-07-31T08:05:16.083890Z",
     "start_time": "2020-07-31T08:05:16.049514Z"
    }
   },
   "outputs": [
    {
     "name": "stdout",
     "output_type": "stream",
     "text": [
      "0.1528863870565333\n",
      "0.7652005515770703\n",
      "-0.4604089614421554\n",
      "91.2075218095992\n",
      "-0.07005703802228408\n",
      "0.75\n",
      "Index(['power_mw_obsnorm', 'power_available_mw_obsnorm', 'target_losses_norm',\n",
      "       'dswrf_sfc_wm2', 'gust_sfc_ms', 'hpbl_sfc_m', 'msl_ms_pa',\n",
      "       'pottemp_80mto0m_K', 'q_2m_1', 'q_pfg30_1', 'r_pl925_perc',\n",
      "       'r_pl950_perc', 'shtfl_sfc_wm2', 't_100m_k', 't_2m_k',\n",
      "       'tcclow_sfc_perc', 'tccmedium_sfc_perc', 'wdir_100m_dn', 'wdir_10m_dn',\n",
      "       'wdir_pl925_dn', 'wsp_100m_ms', 'wsp_10m_ms', 'wsp_pl925_ms',\n",
      "       'created_on', 'azimuth', 'elevation', 'day_name', 'month_name'],\n",
      "      dtype='object')\n"
     ]
    }
   ],
   "source": [
    "# mean and max difference between windspeed in 100m height and after first 30 hPA\n",
    "diff_wsp = (abs(df['wsp_pfg30_ms']-df['wsp_100m_ms']))\n",
    "diff_wsp = pd.DataFrame(diff_wsp)\n",
    "print(diff_wsp[0].mean())\n",
    "print(diff_wsp[0].max())\n",
    "\n",
    "# mean and max difference between wind direction in 100m height and after first 30 hPA\n",
    "diff_wdir = (df['wdir_pfg30_dn']-df['wdir_100m_dn'])\n",
    "diff_wdir = pd.DataFrame(diff_wdir)\n",
    "print(diff_wdir[0].mean())\n",
    "print(diff_wdir[0].max())\n",
    "\n",
    "# mean and max difference between temperatures in 100m height and after first 30 hPA\n",
    "diff_t = (df['t_pfg30_k']-df['t_100m_k'])\n",
    "diff_t = pd.DataFrame(diff_t)\n",
    "print(diff_t[0].mean())\n",
    "print(diff_t[0].max())\n",
    "\n",
    "# dropping columns for after first 30 hPa since 100m is nearly the same height\n",
    "if 'wsp_pfg30_ms' in df.columns:\n",
    "    df.pop('wsp_pfg30_ms')\n",
    "    df.pop('wdir_pfg30_dn')\n",
    "    df.pop('t_pfg30_k')\n",
    "    print(df.columns)"
   ]
  },
  {
   "cell_type": "code",
   "execution_count": 12,
   "metadata": {
    "ExecuteTime": {
     "end_time": "2020-07-31T08:05:16.194979Z",
     "start_time": "2020-07-31T08:05:16.085617Z"
    }
   },
   "outputs": [],
   "source": [
    "# encoding the day of the week as well as the month\n",
    "encoder = preprocessing.OneHotEncoder(dtype=np.int,categories=[['Monday','Tuesday','Wednesday','Thursday',\n",
    "                                                                'Friday','Saturday','Sunday'],['January',\n",
    "                                                                'February','March','April','May','June',\n",
    "                                                                'July','August','September','October',\n",
    "                                                                'November','December']])\n",
    "onehotfeat = ['day_name','month_name']\n",
    "for i in onehotfeat:\n",
    "    cat_feat = pd.DataFrame(encoder.fit_transform(df[['day_name','month_name']]).toarray(),\n",
    "                            columns=['Monday','Tuesday','Wednesday','Thursday','Friday','Saturday','Sunday',\n",
    "                                     'January','February','March','April','May','June','July','August',\n",
    "                                     'September','October','November','December'])\n",
    "cat_feat.index = df.index\n",
    "df = pd.concat([df,cat_feat], axis=1)"
   ]
  },
  {
   "cell_type": "code",
   "execution_count": null,
   "metadata": {},
   "outputs": [],
   "source": [
    "# check duplicates\n",
    "df[df.index.duplicated()]"
   ]
  },
  {
   "cell_type": "markdown",
   "metadata": {},
   "source": [
    "# Data Exploration"
   ]
  },
  {
   "cell_type": "markdown",
   "metadata": {},
   "source": [
    "# Modelling"
   ]
  },
  {
   "cell_type": "markdown",
   "metadata": {},
   "source": [
    "## Train test split"
   ]
  },
  {
   "cell_type": "code",
   "execution_count": 33,
   "metadata": {
    "ExecuteTime": {
     "end_time": "2020-07-31T08:53:55.774144Z",
     "start_time": "2020-07-31T08:53:55.722340Z"
    }
   },
   "outputs": [],
   "source": [
    "features =['dswrf_sfc_wm2', \n",
    "    'gust_sfc_ms',\n",
    "     'hpbl_sfc_m', 'msl_ms_pa',\n",
    "       'pottemp_80mto0m_K', 'q_2m_1', 'q_pfg30_1', 'r_pl925_perc',\n",
    "       'r_pl950_perc', 'shtfl_sfc_wm2', 't_100m_k', 't_2m_k',\n",
    "       'tcclow_sfc_perc', 'tccmedium_sfc_perc', \n",
    "#           'wdir_100m_dn', 'wdir_10m_dn',\n",
    " #      'wdir_pl925_dn', \n",
    "    'wsp_100m_ms'\n",
    "    , 'wsp_10m_ms', 'wsp_pl925_ms',\n",
    "       #'created_on',\n",
    "           'azimuth', 'elevation',\n",
    "          ]    \n",
    "X = df[features]\n",
    "Y1 = df['power_mw_obsnorm']\n",
    "Y2 = df['power_available_mw_obsnorm']\n",
    "Y3 = df['target_losses_norm']\n",
    "\n",
    "x_train1, x_test1, y_train1, y_test1 = train_test_split(X, Y1, test_size=0.25, random_state=5)\n",
    "x_train2, x_test2, y_train2, y_test2 = train_test_split(X, Y2, test_size=0.25, random_state=5)\n",
    "x_train3, x_test3, y_train3, y_test3 = train_test_split(X, Y3, test_size=0.25, random_state=5)"
   ]
  },
  {
   "cell_type": "markdown",
   "metadata": {
    "ExecuteTime": {
     "end_time": "2020-07-30T07:34:02.313290Z",
     "start_time": "2020-07-30T07:34:02.273412Z"
    }
   },
   "source": [
    "## Train test split for timeframes"
   ]
  },
  {
   "cell_type": "code",
   "execution_count": 34,
   "metadata": {
    "ExecuteTime": {
     "end_time": "2020-07-31T08:53:55.779833Z",
     "start_time": "2020-07-31T08:53:55.776285Z"
    }
   },
   "outputs": [],
   "source": [
    "def timeframe_train_test(x, y, time_start, time_end):\n",
    "    frame = (y.index >= time_start) & (y.index <= time_end)\n",
    "    x_test_tf = x[frame]\n",
    "    y_test_tf = y[frame]\n",
    "    x_train_tf = x[~frame]\n",
    "    y_train_tf = y[~frame]\n",
    "    return x_train_tf, x_test_tf, y_train_tf, y_test_tf"
   ]
  },
  {
   "cell_type": "code",
   "execution_count": 35,
   "metadata": {
    "ExecuteTime": {
     "end_time": "2020-07-31T08:53:56.022902Z",
     "start_time": "2020-07-31T08:53:56.005819Z"
    }
   },
   "outputs": [],
   "source": [
    "timeframe_start = '2019-01-01 00:00'\n",
    "timeframe_end = '2019-06-25 01:00'\n",
    "x_train_tf, x_test_tf, y_train_tf, y_test_tf = timeframe_train_test(X, Y3, timeframe_start, timeframe_end)"
   ]
  },
  {
   "cell_type": "markdown",
   "metadata": {},
   "source": [
    "## Functions for evaluation and plotting"
   ]
  },
  {
   "cell_type": "code",
   "execution_count": 36,
   "metadata": {
    "ExecuteTime": {
     "end_time": "2020-07-31T08:53:56.766018Z",
     "start_time": "2020-07-31T08:53:56.758528Z"
    }
   },
   "outputs": [],
   "source": [
    "def regr_eval(y_test, y_pred, return_scores=False, print_scores=True):\n",
    "    if print_scores==True:\n",
    "        print('Mean squared error: '+str(round(mean_squared_error(y_test, y_pred),6)))\n",
    "        print('Root mean squared error: '+str(round(np.sqrt(mean_squared_error(y_test, y_pred)),6)))\n",
    "        print('Explained variance score: '+str(round(explained_variance_score(y_test, y_pred),6)))\n",
    "        print('R-squared score: '+str(round(r2_score(y_test, y_pred),6)))\n",
    "    if return_scores==True:\n",
    "        return mean_squared_error(y_test, y_pred),np.sqrt(mean_squared_error(y_test, y_pred)),explained_variance_score(y_test, y_pred),r2_score(y_test, y_pred)"
   ]
  },
  {
   "cell_type": "code",
   "execution_count": 37,
   "metadata": {
    "ExecuteTime": {
     "end_time": "2020-07-31T08:53:57.090286Z",
     "start_time": "2020-07-31T08:53:57.084401Z"
    }
   },
   "outputs": [],
   "source": [
    "def plot_resid(y_test, y_pred):\n",
    "    x = y_test.index\n",
    "    y1 = y_test\n",
    "    y2 = y_pred\n",
    "    fig = go.Figure()\n",
    "    fig.add_trace(go.Scatter(x=x, y=y1, name='True Values', line_color='#32a852', mode='markers'))\n",
    "    fig.add_trace(go.Scatter(x=x, y=y2, name='Predicted Values', line_color='#23e2f7', mode='markers'))\n",
    "    \n",
    "    fig.show()"
   ]
  },
  {
   "cell_type": "code",
   "execution_count": 38,
   "metadata": {
    "ExecuteTime": {
     "end_time": "2020-07-31T08:53:57.465698Z",
     "start_time": "2020-07-31T08:53:57.461951Z"
    }
   },
   "outputs": [],
   "source": [
    "def plot_resid_hist(y_test, y_pred):\n",
    "\n",
    "    x = abs(y_test-y_pred)\n",
    "    fig = go.Figure()\n",
    "    fig.add_trace(go.Histogram(x=x, name='Distribution of errors'))\n",
    "      \n",
    "    fig.show()"
   ]
  },
  {
   "cell_type": "code",
   "execution_count": 39,
   "metadata": {
    "ExecuteTime": {
     "end_time": "2020-07-31T08:53:57.946165Z",
     "start_time": "2020-07-31T08:53:57.942163Z"
    }
   },
   "outputs": [],
   "source": [
    "def plot_resid_boxp(y_test, y_pred):\n",
    "\n",
    "    x = abs(y_test-y_pred)\n",
    "    fig = go.Figure()\n",
    "    fig.add_trace(go.Box(x=x, name='Distribution of errors'))\n",
    "      \n",
    "    fig.show()"
   ]
  },
  {
   "cell_type": "code",
   "execution_count": 40,
   "metadata": {
    "ExecuteTime": {
     "end_time": "2020-07-31T08:53:58.389303Z",
     "start_time": "2020-07-31T08:53:58.383201Z"
    }
   },
   "outputs": [],
   "source": [
    "def plot_pred_timeframe(y_test, y_pred):\n",
    "    for i in range(1,7):\n",
    "        fig, ax = plt.subplots(figsize=(20,10))\n",
    "        df_test = y_test.to_frame(name='true')\n",
    "        df_test['pred'] = y_pred\n",
    "        df_test = df_test[df_test.index.month == i]\n",
    "        y_te = df_test['true'].resample('H').mean()\n",
    "        y_pre = df_test['pred'].resample('H').mean()\n",
    "        y_te.plot(label='True',color='orange')\n",
    "        y_pre.plot(label='Predicted',color='blue')\n",
    "        plt.legend()\n",
    "    plt.figure(figsize=(20,10.0))\n",
    "    plt.show()"
   ]
  },
  {
   "cell_type": "markdown",
   "metadata": {},
   "source": [
    "## Linear Regression"
   ]
  },
  {
   "cell_type": "code",
   "execution_count": 41,
   "metadata": {
    "ExecuteTime": {
     "end_time": "2020-07-31T08:53:59.371425Z",
     "start_time": "2020-07-31T08:53:59.186973Z"
    }
   },
   "outputs": [
    {
     "name": "stdout",
     "output_type": "stream",
     "text": [
      "Mean squared error: 0.005383\n",
      "Root mean squared error: 0.073366\n",
      "Explained variance score: 0.795346\n",
      "R-squared score: 0.795346\n"
     ]
    }
   ],
   "source": [
    "# pred_liniction for power_mw_obsnorm\n",
    "model = LinearRegression(normalize=True)\n",
    "y_train1_pred_lin = cross_val_predict(model, preproc(x_train1), y_train1, cv=5)\n",
    "# model = model.fit(x_train1, y_train1)\n",
    "# y_test1_pred_lin = model.pred_linict(x_test1)\n",
    "regr_eval(y_train1, y_train1_pred_lin, return_scores=False)"
   ]
  },
  {
   "cell_type": "code",
   "execution_count": 42,
   "metadata": {
    "ExecuteTime": {
     "end_time": "2020-07-31T08:53:59.810749Z",
     "start_time": "2020-07-31T08:53:59.688288Z"
    }
   },
   "outputs": [
    {
     "name": "stdout",
     "output_type": "stream",
     "text": [
      "Mean squared error: 0.009008\n",
      "Root mean squared error: 0.094913\n",
      "Explained variance score: 0.870148\n",
      "R-squared score: 0.870148\n"
     ]
    }
   ],
   "source": [
    "# pred_liniction for power_mw_obsnorm\n",
    "model = LinearRegression()\n",
    "y_train2_pred_lin = cross_val_predict(model, preproc(x_train2), y_train2, cv=5)\n",
    "regr_eval(y_train2, y_train2_pred_lin, return_scores=False)"
   ]
  },
  {
   "cell_type": "code",
   "execution_count": 43,
   "metadata": {
    "ExecuteTime": {
     "end_time": "2020-07-31T08:54:00.427400Z",
     "start_time": "2020-07-31T08:54:00.327201Z"
    },
    "scrolled": false
   },
   "outputs": [
    {
     "name": "stdout",
     "output_type": "stream",
     "text": [
      "Mean squared error: 0.005217\n",
      "Root mean squared error: 0.072226\n",
      "Explained variance score: 0.680321\n",
      "R-squared score: 0.680321\n"
     ]
    }
   ],
   "source": [
    "# pred_liniction for power_available_mw_obsnorm\n",
    "model = LinearRegression()\n",
    "y_train3_pred_lin = cross_val_predict(model, x_train3, y_train3, cv=5)\n",
    "regr_eval(y_train3, y_train3_pred_lin, return_scores=False)"
   ]
  },
  {
   "cell_type": "code",
   "execution_count": 1,
   "metadata": {
    "ExecuteTime": {
     "end_time": "2020-07-31T13:43:17.895336Z",
     "start_time": "2020-07-31T13:43:17.893237Z"
    }
   },
   "outputs": [],
   "source": [
    "# plot_resid_hist(y_train3, y_train3_pred_lin)\n",
    "# plot_resid_boxp(y_train3, y_train3_pred_lin)"
   ]
  },
  {
   "cell_type": "markdown",
   "metadata": {},
   "source": [
    "## Polynominal Linear Regression"
   ]
  },
  {
   "cell_type": "code",
   "execution_count": 954,
   "metadata": {
    "ExecuteTime": {
     "end_time": "2020-07-28T09:37:55.330531Z",
     "start_time": "2020-07-28T09:37:53.659657Z"
    }
   },
   "outputs": [
    {
     "name": "stdout",
     "output_type": "stream",
     "text": [
      "Mean squared error: 0.004229\n",
      "Root mean squared error: 0.065034\n",
      "Explained variance score: 0.839189\n",
      "R-squared score: 0.839189\n"
     ]
    }
   ],
   "source": [
    "x_train1_poly = PolynomialFeatures(degree=2).fit_transform(x_train1)\n",
    "model = LinearRegression()\n",
    "y_train1_pred_poly = cross_val_predict(model, x_train1_poly, y_train1, cv=5)\n",
    "regr_eval(y_train1, y_train1_pred_poly, return_scores=False)"
   ]
  },
  {
   "cell_type": "code",
   "execution_count": 955,
   "metadata": {
    "ExecuteTime": {
     "end_time": "2020-07-28T09:37:59.078009Z",
     "start_time": "2020-07-28T09:37:57.725165Z"
    }
   },
   "outputs": [
    {
     "name": "stdout",
     "output_type": "stream",
     "text": [
      "Mean squared error: 0.006498\n",
      "Root mean squared error: 0.080609\n",
      "Explained variance score: 0.906337\n",
      "R-squared score: 0.906337\n"
     ]
    }
   ],
   "source": [
    "x_train2_poly = PolynomialFeatures(degree=2).fit_transform(x_train2)\n",
    "model = LinearRegression()\n",
    "y_train2_pred_poly = cross_val_predict(model, x_train2_poly, y_train2, cv=5)\n",
    "regr_eval(y_train2, y_train2_pred_poly, return_scores=False)"
   ]
  },
  {
   "cell_type": "code",
   "execution_count": 956,
   "metadata": {
    "ExecuteTime": {
     "end_time": "2020-07-28T09:38:01.720710Z",
     "start_time": "2020-07-28T09:38:00.329482Z"
    },
    "scrolled": false
   },
   "outputs": [
    {
     "name": "stdout",
     "output_type": "stream",
     "text": [
      "Mean squared error: 0.003038\n",
      "Root mean squared error: 0.055119\n",
      "Explained variance score: 0.81382\n",
      "R-squared score: 0.81382\n"
     ]
    }
   ],
   "source": [
    "x_train3_poly = PolynomialFeatures(degree=2).fit_transform(x_train3)\n",
    "model = LinearRegression()\n",
    "y_train3_pred_poly = cross_val_predict(model, x_train3_poly, y_train3, cv=5)\n",
    "regr_eval(y_train3, y_train3_pred_poly, return_scores=False)"
   ]
  },
  {
   "cell_type": "code",
   "execution_count": 1078,
   "metadata": {
    "ExecuteTime": {
     "end_time": "2020-07-30T08:01:09.993846Z",
     "start_time": "2020-07-30T08:01:09.465174Z"
    }
   },
   "outputs": [
    {
     "name": "stdout",
     "output_type": "stream",
     "text": [
      "Mean squared error: 0.006832\n",
      "Root mean squared error: 0.082658\n",
      "Explained variance score: 0.750255\n",
      "R-squared score: 0.738388\n"
     ]
    }
   ],
   "source": [
    "x_train_tf_poly = PolynomialFeatures(degree=2).fit_transform(x_train_tf)\n",
    "x_test_tf_poly = PolynomialFeatures(degree=2).fit_transform(x_test_tf)\n",
    "model = LinearRegression()\n",
    "model = model.fit(x_train_tf_poly, y_train_tf)\n",
    "y_test_tf_pred = model.predict(x_test_tf_poly)\n",
    "regr_eval(y_test_tf, y_test_tf_pred, return_scores=False)"
   ]
  },
  {
   "cell_type": "code",
   "execution_count": 2,
   "metadata": {
    "ExecuteTime": {
     "end_time": "2020-07-31T13:43:27.134986Z",
     "start_time": "2020-07-31T13:43:27.132938Z"
    }
   },
   "outputs": [],
   "source": [
    "#plot_resid_hist(y_train3, y_train3_pred_poly)\n",
    "#plot_resid_boxp(y_train3, y_train3_pred_poly)"
   ]
  },
  {
   "cell_type": "markdown",
   "metadata": {},
   "source": [
    "## Support Vector Regressor"
   ]
  },
  {
   "cell_type": "markdown",
   "metadata": {},
   "source": [
    "Best results and fastest calculating with only wind features"
   ]
  },
  {
   "cell_type": "code",
   "execution_count": 971,
   "metadata": {
    "ExecuteTime": {
     "end_time": "2020-07-28T09:49:21.305765Z",
     "start_time": "2020-07-28T09:48:32.675105Z"
    },
    "scrolled": true
   },
   "outputs": [
    {
     "name": "stdout",
     "output_type": "stream",
     "text": [
      "Mean squared error: 0.003431\n",
      "Root mean squared error: 0.058578\n",
      "Explained variance score: 0.872703\n",
      "R-squared score: 0.869536\n"
     ]
    }
   ],
   "source": [
    "svr_model = SVR(kernel='rbf')\n",
    "y_train1_pred_svr = cross_val_predict(svr_model, preproc(x_train1), y_train1, cv=5)\n",
    "regr_eval(y_train1, y_train1_pred_svr, return_scores=False)"
   ]
  },
  {
   "cell_type": "code",
   "execution_count": 972,
   "metadata": {
    "ExecuteTime": {
     "end_time": "2020-07-28T09:50:31.115538Z",
     "start_time": "2020-07-28T09:49:21.307753Z"
    },
    "scrolled": false
   },
   "outputs": [
    {
     "name": "stdout",
     "output_type": "stream",
     "text": [
      "Mean squared error: 0.004514\n",
      "Root mean squared error: 0.067188\n",
      "Explained variance score: 0.935737\n",
      "R-squared score: 0.934929\n"
     ]
    }
   ],
   "source": [
    "svr_model = SVR(kernel='rbf')\n",
    "y_train2_pred_svr = cross_val_predict(svr_model, preproc(x_train2), y_train2, cv=5)\n",
    "regr_eval(y_train2, y_train2_pred_svr, return_scores=False)"
   ]
  },
  {
   "cell_type": "code",
   "execution_count": 973,
   "metadata": {
    "ExecuteTime": {
     "end_time": "2020-07-28T09:51:04.206446Z",
     "start_time": "2020-07-28T09:50:31.117887Z"
    },
    "scrolled": true
   },
   "outputs": [
    {
     "name": "stdout",
     "output_type": "stream",
     "text": [
      "Mean squared error: 0.002978\n",
      "Root mean squared error: 0.054575\n",
      "Explained variance score: 0.819067\n",
      "R-squared score: 0.81748\n"
     ]
    }
   ],
   "source": [
    "# predicting losses with support vectore regression\n",
    "svr_model = SVR(kernel='rbf')\n",
    "y_train3_pred_svr = cross_val_predict(svr_model, preproc(x_train3), y_train3, cv=5)\n",
    "regr_eval(y_train3, y_train3_pred_svr, return_scores=False)"
   ]
  },
  {
   "cell_type": "code",
   "execution_count": 3,
   "metadata": {
    "ExecuteTime": {
     "end_time": "2020-07-31T13:43:31.755733Z",
     "start_time": "2020-07-31T13:43:31.642738Z"
    }
   },
   "outputs": [
    {
     "ename": "NameError",
     "evalue": "name 'SVR' is not defined",
     "output_type": "error",
     "traceback": [
      "\u001b[0;31m---------------------------------------------------------------------------\u001b[0m",
      "\u001b[0;31mNameError\u001b[0m                                 Traceback (most recent call last)",
      "\u001b[0;32m<ipython-input-3-be716e1c11a3>\u001b[0m in \u001b[0;36m<module>\u001b[0;34m\u001b[0m\n\u001b[1;32m      1\u001b[0m \u001b[0;31m# predicting losses for a whole timeframe\u001b[0m\u001b[0;34m\u001b[0m\u001b[0;34m\u001b[0m\u001b[0;34m\u001b[0m\u001b[0m\n\u001b[0;32m----> 2\u001b[0;31m \u001b[0msvr_model\u001b[0m \u001b[0;34m=\u001b[0m \u001b[0mSVR\u001b[0m\u001b[0;34m(\u001b[0m\u001b[0mkernel\u001b[0m\u001b[0;34m=\u001b[0m\u001b[0;34m'poly'\u001b[0m\u001b[0;34m)\u001b[0m\u001b[0;34m\u001b[0m\u001b[0;34m\u001b[0m\u001b[0m\n\u001b[0m\u001b[1;32m      3\u001b[0m \u001b[0msvr_model\u001b[0m \u001b[0;34m=\u001b[0m \u001b[0msvr_model\u001b[0m\u001b[0;34m.\u001b[0m\u001b[0mfit\u001b[0m\u001b[0;34m(\u001b[0m\u001b[0mpreproc\u001b[0m\u001b[0;34m(\u001b[0m\u001b[0mx_train_tf\u001b[0m\u001b[0;34m)\u001b[0m\u001b[0;34m,\u001b[0m \u001b[0my_train_tf\u001b[0m\u001b[0;34m)\u001b[0m\u001b[0;34m\u001b[0m\u001b[0;34m\u001b[0m\u001b[0m\n\u001b[1;32m      4\u001b[0m \u001b[0my_test_tf_pred_svr\u001b[0m \u001b[0;34m=\u001b[0m \u001b[0msvr_model\u001b[0m\u001b[0;34m.\u001b[0m\u001b[0mpredict\u001b[0m\u001b[0;34m(\u001b[0m\u001b[0mpreproc\u001b[0m\u001b[0;34m(\u001b[0m\u001b[0mx_test_tf\u001b[0m\u001b[0;34m)\u001b[0m\u001b[0;34m)\u001b[0m\u001b[0;34m\u001b[0m\u001b[0;34m\u001b[0m\u001b[0m\n\u001b[1;32m      5\u001b[0m \u001b[0mregr_eval\u001b[0m\u001b[0;34m(\u001b[0m\u001b[0my_test_tf\u001b[0m\u001b[0;34m,\u001b[0m \u001b[0my_test_tf_pred_svr\u001b[0m\u001b[0;34m,\u001b[0m \u001b[0mreturn_scores\u001b[0m\u001b[0;34m=\u001b[0m\u001b[0;32mFalse\u001b[0m\u001b[0;34m)\u001b[0m\u001b[0;34m\u001b[0m\u001b[0;34m\u001b[0m\u001b[0m\n",
      "\u001b[0;31mNameError\u001b[0m: name 'SVR' is not defined"
     ]
    }
   ],
   "source": [
    "# predicting losses for a whole timeframe\n",
    "svr_model = SVR(kernel='poly')\n",
    "svr_model = svr_model.fit(preproc(x_train_tf), y_train_tf)\n",
    "y_test_tf_pred_svr = svr_model.predict(preproc(x_test_tf))\n",
    "regr_eval(y_test_tf, y_test_tf_pred_svr, return_scores=False)\n",
    "#plot_pred_timeframe(y_test_tf, y_test_tf_pred_svr)"
   ]
  },
  {
   "cell_type": "code",
   "execution_count": 4,
   "metadata": {
    "ExecuteTime": {
     "end_time": "2020-07-31T13:43:42.662856Z",
     "start_time": "2020-07-31T13:43:42.660824Z"
    },
    "scrolled": true
   },
   "outputs": [],
   "source": [
    "# calculating the losses\n",
    "#regr_eval(y_train3, (y_train2_pred_svr-y_train1_pred_svr), return_scores=False)\n",
    "#plot_resid_hist(y_train3, (y_train2_pred_svr-y_train1_pred_svr))\n",
    "#plot_resid_boxp(y_train3, (y_train2_pred_svr-y_train1_pred_svr))"
   ]
  },
  {
   "cell_type": "code",
   "execution_count": null,
   "metadata": {},
   "outputs": [],
   "source": []
  },
  {
   "cell_type": "markdown",
   "metadata": {
    "ExecuteTime": {
     "end_time": "2020-07-21T07:03:51.656831Z",
     "start_time": "2020-07-21T07:03:51.647750Z"
    }
   },
   "source": [
    "## KNN"
   ]
  },
  {
   "cell_type": "code",
   "execution_count": 977,
   "metadata": {
    "ExecuteTime": {
     "end_time": "2020-07-28T09:53:13.405039Z",
     "start_time": "2020-07-28T09:53:11.763833Z"
    }
   },
   "outputs": [
    {
     "name": "stdout",
     "output_type": "stream",
     "text": [
      "Mean squared error: 0.002639\n",
      "Root mean squared error: 0.051375\n",
      "Explained variance score: 0.899741\n",
      "R-squared score: 0.899646\n"
     ]
    }
   ],
   "source": [
    "knn_model = KNeighborsRegressor(6)\n",
    "y_train1_pred_knn = cross_val_predict(knn_model, x_train1, y_train1, cv=5)\n",
    "regr_eval(y_train1, y_train1_pred_knn, return_scores=False)"
   ]
  },
  {
   "cell_type": "code",
   "execution_count": 978,
   "metadata": {
    "ExecuteTime": {
     "end_time": "2020-07-28T09:53:16.464113Z",
     "start_time": "2020-07-28T09:53:14.853851Z"
    }
   },
   "outputs": [
    {
     "name": "stdout",
     "output_type": "stream",
     "text": [
      "Mean squared error: 0.005078\n",
      "Root mean squared error: 0.071262\n",
      "Explained variance score: 0.926856\n",
      "R-squared score: 0.926799\n"
     ]
    }
   ],
   "source": [
    "knn_model = KNeighborsRegressor(6)\n",
    "y_train2_pred_knn = cross_val_predict(knn_model, x_train2, y_train2, cv=5)\n",
    "regr_eval(y_train2, y_train2_pred_knn, return_scores=False)"
   ]
  },
  {
   "cell_type": "code",
   "execution_count": 5,
   "metadata": {
    "ExecuteTime": {
     "end_time": "2020-07-31T13:43:51.900224Z",
     "start_time": "2020-07-31T13:43:51.893697Z"
    },
    "scrolled": false
   },
   "outputs": [
    {
     "ename": "NameError",
     "evalue": "name 'KNeighborsRegressor' is not defined",
     "output_type": "error",
     "traceback": [
      "\u001b[0;31m---------------------------------------------------------------------------\u001b[0m",
      "\u001b[0;31mNameError\u001b[0m                                 Traceback (most recent call last)",
      "\u001b[0;32m<ipython-input-5-5ae8b2bc5fa8>\u001b[0m in \u001b[0;36m<module>\u001b[0;34m\u001b[0m\n\u001b[0;32m----> 1\u001b[0;31m \u001b[0mknn_model\u001b[0m \u001b[0;34m=\u001b[0m \u001b[0mKNeighborsRegressor\u001b[0m\u001b[0;34m(\u001b[0m\u001b[0;36m20\u001b[0m\u001b[0;34m)\u001b[0m\u001b[0;34m\u001b[0m\u001b[0;34m\u001b[0m\u001b[0m\n\u001b[0m\u001b[1;32m      2\u001b[0m \u001b[0my_train3_pred_knn\u001b[0m \u001b[0;34m=\u001b[0m \u001b[0mcross_val_predict\u001b[0m\u001b[0;34m(\u001b[0m\u001b[0mknn_model\u001b[0m\u001b[0;34m,\u001b[0m \u001b[0mpreproc\u001b[0m\u001b[0;34m(\u001b[0m\u001b[0mx_train3\u001b[0m\u001b[0;34m)\u001b[0m\u001b[0;34m,\u001b[0m \u001b[0my_train3\u001b[0m\u001b[0;34m,\u001b[0m \u001b[0mcv\u001b[0m\u001b[0;34m=\u001b[0m\u001b[0;36m5\u001b[0m\u001b[0;34m)\u001b[0m\u001b[0;34m\u001b[0m\u001b[0;34m\u001b[0m\u001b[0m\n\u001b[1;32m      3\u001b[0m \u001b[0mregr_eval\u001b[0m\u001b[0;34m(\u001b[0m\u001b[0my_train3\u001b[0m\u001b[0;34m,\u001b[0m \u001b[0my_train3_pred_knn\u001b[0m\u001b[0;34m,\u001b[0m \u001b[0mreturn_scores\u001b[0m\u001b[0;34m=\u001b[0m\u001b[0;32mFalse\u001b[0m\u001b[0;34m)\u001b[0m\u001b[0;34m\u001b[0m\u001b[0;34m\u001b[0m\u001b[0m\n\u001b[1;32m      4\u001b[0m \u001b[0;31m#plot_resid_hist(y_train3, y_train3_pred_knn)\u001b[0m\u001b[0;34m\u001b[0m\u001b[0;34m\u001b[0m\u001b[0;34m\u001b[0m\u001b[0m\n\u001b[1;32m      5\u001b[0m \u001b[0;31m#plot_resid_boxp(y_train3, y_train3_pred_knn)\u001b[0m\u001b[0;34m\u001b[0m\u001b[0;34m\u001b[0m\u001b[0;34m\u001b[0m\u001b[0m\n",
      "\u001b[0;31mNameError\u001b[0m: name 'KNeighborsRegressor' is not defined"
     ]
    }
   ],
   "source": [
    "knn_model = KNeighborsRegressor(20)\n",
    "y_train3_pred_knn = cross_val_predict(knn_model, preproc(x_train3), y_train3, cv=5)\n",
    "regr_eval(y_train3, y_train3_pred_knn, return_scores=False)\n",
    "#plot_resid_hist(y_train3, y_train3_pred_knn)\n",
    "#plot_resid_boxp(y_train3, y_train3_pred_knn)"
   ]
  },
  {
   "cell_type": "code",
   "execution_count": 6,
   "metadata": {
    "ExecuteTime": {
     "end_time": "2020-07-31T13:43:59.979680Z",
     "start_time": "2020-07-31T13:43:59.970645Z"
    }
   },
   "outputs": [
    {
     "ename": "NameError",
     "evalue": "name 'KNeighborsRegressor' is not defined",
     "output_type": "error",
     "traceback": [
      "\u001b[0;31m---------------------------------------------------------------------------\u001b[0m",
      "\u001b[0;31mNameError\u001b[0m                                 Traceback (most recent call last)",
      "\u001b[0;32m<ipython-input-6-c96ebb7f9ef3>\u001b[0m in \u001b[0;36m<module>\u001b[0;34m\u001b[0m\n\u001b[0;32m----> 1\u001b[0;31m \u001b[0mknn_model\u001b[0m \u001b[0;34m=\u001b[0m \u001b[0mKNeighborsRegressor\u001b[0m\u001b[0;34m(\u001b[0m\u001b[0;36m20\u001b[0m\u001b[0;34m)\u001b[0m\u001b[0;34m\u001b[0m\u001b[0;34m\u001b[0m\u001b[0m\n\u001b[0m\u001b[1;32m      2\u001b[0m \u001b[0mknn_model\u001b[0m \u001b[0;34m=\u001b[0m \u001b[0mknn_model\u001b[0m\u001b[0;34m.\u001b[0m\u001b[0mfit\u001b[0m\u001b[0;34m(\u001b[0m\u001b[0mx_train_tf\u001b[0m\u001b[0;34m,\u001b[0m \u001b[0my_train_tf\u001b[0m\u001b[0;34m)\u001b[0m\u001b[0;34m\u001b[0m\u001b[0;34m\u001b[0m\u001b[0m\n\u001b[1;32m      3\u001b[0m \u001b[0my_test_tf_pred_knn\u001b[0m \u001b[0;34m=\u001b[0m \u001b[0mknn_model\u001b[0m\u001b[0;34m.\u001b[0m\u001b[0mpredict\u001b[0m\u001b[0;34m(\u001b[0m\u001b[0mx_test_tf\u001b[0m\u001b[0;34m)\u001b[0m\u001b[0;34m\u001b[0m\u001b[0;34m\u001b[0m\u001b[0m\n\u001b[1;32m      4\u001b[0m \u001b[0mregr_eval\u001b[0m\u001b[0;34m(\u001b[0m\u001b[0my_test_tf\u001b[0m\u001b[0;34m,\u001b[0m \u001b[0my_test_tf_pred_knn\u001b[0m\u001b[0;34m,\u001b[0m \u001b[0mreturn_scores\u001b[0m\u001b[0;34m=\u001b[0m\u001b[0;32mFalse\u001b[0m\u001b[0;34m)\u001b[0m\u001b[0;34m\u001b[0m\u001b[0;34m\u001b[0m\u001b[0m\n\u001b[1;32m      5\u001b[0m \u001b[0;31m#plot_pred_timeframe(y_test_tf, y_test_tf_pred_knn)\u001b[0m\u001b[0;34m\u001b[0m\u001b[0;34m\u001b[0m\u001b[0;34m\u001b[0m\u001b[0m\n",
      "\u001b[0;31mNameError\u001b[0m: name 'KNeighborsRegressor' is not defined"
     ]
    }
   ],
   "source": [
    "knn_model = KNeighborsRegressor(20)\n",
    "knn_model = knn_model.fit(x_train_tf, y_train_tf)\n",
    "y_test_tf_pred_knn = knn_model.predict(x_test_tf)\n",
    "regr_eval(y_test_tf, y_test_tf_pred_knn, return_scores=False)\n",
    "#plot_pred_timeframe(y_test_tf, y_test_tf_pred_knn)"
   ]
  },
  {
   "cell_type": "code",
   "execution_count": 7,
   "metadata": {
    "ExecuteTime": {
     "end_time": "2020-07-31T13:44:05.273421Z",
     "start_time": "2020-07-31T13:44:05.266827Z"
    }
   },
   "outputs": [
    {
     "ename": "NameError",
     "evalue": "name 'regr_eval' is not defined",
     "output_type": "error",
     "traceback": [
      "\u001b[0;31m---------------------------------------------------------------------------\u001b[0m",
      "\u001b[0;31mNameError\u001b[0m                                 Traceback (most recent call last)",
      "\u001b[0;32m<ipython-input-7-4145eee0663f>\u001b[0m in \u001b[0;36m<module>\u001b[0;34m\u001b[0m\n\u001b[0;32m----> 1\u001b[0;31m \u001b[0mregr_eval\u001b[0m\u001b[0;34m(\u001b[0m\u001b[0my_train3\u001b[0m\u001b[0;34m,\u001b[0m \u001b[0;34m(\u001b[0m\u001b[0my_train2_pred_knn\u001b[0m\u001b[0;34m-\u001b[0m\u001b[0my_train1_pred_knn\u001b[0m\u001b[0;34m)\u001b[0m\u001b[0;34m,\u001b[0m \u001b[0mreturn_scores\u001b[0m\u001b[0;34m=\u001b[0m\u001b[0;32mFalse\u001b[0m\u001b[0;34m)\u001b[0m\u001b[0;34m\u001b[0m\u001b[0;34m\u001b[0m\u001b[0m\n\u001b[0m\u001b[1;32m      2\u001b[0m \u001b[0;31m#plot_resid_hist(y_train3, (y_train2_pred_knn-y_train1_pred_knn))\u001b[0m\u001b[0;34m\u001b[0m\u001b[0;34m\u001b[0m\u001b[0;34m\u001b[0m\u001b[0m\n\u001b[1;32m      3\u001b[0m \u001b[0;31m#plot_resid_boxp(y_train3, (y_train2_pred_knn-y_train1_pred_knn))\u001b[0m\u001b[0;34m\u001b[0m\u001b[0;34m\u001b[0m\u001b[0;34m\u001b[0m\u001b[0m\n",
      "\u001b[0;31mNameError\u001b[0m: name 'regr_eval' is not defined"
     ]
    }
   ],
   "source": [
    "regr_eval(y_train3, (y_train2_pred_knn-y_train1_pred_knn), return_scores=False)\n",
    "#plot_resid_hist(y_train3, (y_train2_pred_knn-y_train1_pred_knn))\n",
    "#plot_resid_boxp(y_train3, (y_train2_pred_knn-y_train1_pred_knn))"
   ]
  },
  {
   "cell_type": "markdown",
   "metadata": {
    "ExecuteTime": {
     "end_time": "2020-07-21T08:25:36.264619Z",
     "start_time": "2020-07-21T08:25:36.216993Z"
    }
   },
   "source": [
    "## Random Forrest Regressor"
   ]
  },
  {
   "cell_type": "code",
   "execution_count": 984,
   "metadata": {
    "ExecuteTime": {
     "end_time": "2020-07-28T09:57:13.165743Z",
     "start_time": "2020-07-28T09:57:09.403660Z"
    }
   },
   "outputs": [
    {
     "name": "stdout",
     "output_type": "stream",
     "text": [
      "Mean squared error: 0.003156\n",
      "Root mean squared error: 0.056178\n",
      "Explained variance score: 0.880006\n",
      "R-squared score: 0.880006\n"
     ]
    }
   ],
   "source": [
    "rfr_model = RandomForestRegressor(n_estimators=10, max_features='sqrt',max_depth=8, min_samples_leaf=10)\n",
    "y_train1_pred_rfr = cross_val_predict(rfr_model, x_train1, y_train1, cv=5)\n",
    "regr_eval(y_train1, y_train1_pred_rfr, return_scores=False)"
   ]
  },
  {
   "cell_type": "code",
   "execution_count": 985,
   "metadata": {
    "ExecuteTime": {
     "end_time": "2020-07-28T09:57:16.929421Z",
     "start_time": "2020-07-28T09:57:13.167521Z"
    }
   },
   "outputs": [
    {
     "name": "stdout",
     "output_type": "stream",
     "text": [
      "Mean squared error: 0.004475\n",
      "Root mean squared error: 0.066894\n",
      "Explained variance score: 0.935499\n",
      "R-squared score: 0.935498\n"
     ]
    }
   ],
   "source": [
    "rfr_model = RandomForestRegressor(n_estimators=10, max_features='sqrt',max_depth=8, min_samples_leaf=10)\n",
    "y_train2_pred_rfr = cross_val_predict(rfr_model, x_train2, y_train2, cv=5)\n",
    "regr_eval(y_train2, y_train2_pred_rfr, return_scores=False)"
   ]
  },
  {
   "cell_type": "code",
   "execution_count": 1135,
   "metadata": {
    "ExecuteTime": {
     "end_time": "2020-07-30T11:17:03.417502Z",
     "start_time": "2020-07-30T11:16:59.774711Z"
    }
   },
   "outputs": [
    {
     "name": "stdout",
     "output_type": "stream",
     "text": [
      "Mean squared error: 0.001731\n",
      "Root mean squared error: 0.041603\n",
      "Explained variance score: 0.893932\n",
      "R-squared score: 0.893931\n"
     ]
    }
   ],
   "source": [
    "rfr_model = RandomForestRegressor(n_estimators=10, max_features='sqrt',max_depth=8, min_samples_leaf=10)\n",
    "y_train3_pred_rfr = cross_val_predict(rfr_model, x_train3, y_train3, cv=5)\n",
    "regr_eval(y_train3, y_train3_pred_rfr, return_scores=False)"
   ]
  },
  {
   "cell_type": "code",
   "execution_count": 8,
   "metadata": {
    "ExecuteTime": {
     "end_time": "2020-07-31T13:44:10.597200Z",
     "start_time": "2020-07-31T13:44:10.587929Z"
    }
   },
   "outputs": [
    {
     "ename": "NameError",
     "evalue": "name 'RandomForestRegressor' is not defined",
     "output_type": "error",
     "traceback": [
      "\u001b[0;31m---------------------------------------------------------------------------\u001b[0m",
      "\u001b[0;31mNameError\u001b[0m                                 Traceback (most recent call last)",
      "\u001b[0;32m<ipython-input-8-c4f7b22cf934>\u001b[0m in \u001b[0;36m<module>\u001b[0;34m\u001b[0m\n\u001b[0;32m----> 1\u001b[0;31m rfr_model = RandomForestRegressor(#n_estimators=10, max_features='sqrt',max_depth=8, min_samples_leaf=10)\n\u001b[0m\u001b[1;32m      2\u001b[0m )\n\u001b[1;32m      3\u001b[0m \u001b[0mrfr_model\u001b[0m \u001b[0;34m=\u001b[0m \u001b[0mrfr_model\u001b[0m\u001b[0;34m.\u001b[0m\u001b[0mfit\u001b[0m\u001b[0;34m(\u001b[0m\u001b[0mx_train_tf\u001b[0m\u001b[0;34m,\u001b[0m \u001b[0my_train_tf\u001b[0m\u001b[0;34m)\u001b[0m\u001b[0;34m\u001b[0m\u001b[0;34m\u001b[0m\u001b[0m\n\u001b[1;32m      4\u001b[0m \u001b[0my_test_tf_pred_rfr\u001b[0m \u001b[0;34m=\u001b[0m \u001b[0mrfr_model\u001b[0m\u001b[0;34m.\u001b[0m\u001b[0mpredict\u001b[0m\u001b[0;34m(\u001b[0m\u001b[0mx_test_tf\u001b[0m\u001b[0;34m)\u001b[0m\u001b[0;34m\u001b[0m\u001b[0;34m\u001b[0m\u001b[0m\n\u001b[1;32m      5\u001b[0m \u001b[0mregr_eval\u001b[0m\u001b[0;34m(\u001b[0m\u001b[0my_test_tf\u001b[0m\u001b[0;34m,\u001b[0m \u001b[0my_test_tf_pred_rfr\u001b[0m\u001b[0;34m,\u001b[0m \u001b[0mreturn_scores\u001b[0m\u001b[0;34m=\u001b[0m\u001b[0;32mFalse\u001b[0m\u001b[0;34m)\u001b[0m\u001b[0;34m\u001b[0m\u001b[0;34m\u001b[0m\u001b[0m\n",
      "\u001b[0;31mNameError\u001b[0m: name 'RandomForestRegressor' is not defined"
     ]
    }
   ],
   "source": [
    "rfr_model = RandomForestRegressor(#n_estimators=10, max_features='sqrt',max_depth=8, min_samples_leaf=10)\n",
    ")\n",
    "rfr_model = rfr_model.fit(x_train_tf, y_train_tf)\n",
    "y_test_tf_pred_rfr = rfr_model.predict(x_test_tf)\n",
    "regr_eval(y_test_tf, y_test_tf_pred_rfr, return_scores=False)\n",
    "#plot_pred_timeframe(y_test_tf, y_test_tf_pred_rfr)"
   ]
  },
  {
   "cell_type": "code",
   "execution_count": 9,
   "metadata": {
    "ExecuteTime": {
     "end_time": "2020-07-31T13:44:15.227057Z",
     "start_time": "2020-07-31T13:44:15.224980Z"
    }
   },
   "outputs": [],
   "source": [
    "#plot_resid_hist(y_train3, y_train3_pred_rfr)\n",
    "#plot_resid_boxp(y_train3, y_train3_pred_rfr)"
   ]
  },
  {
   "cell_type": "markdown",
   "metadata": {},
   "source": [
    "# Openweather API"
   ]
  },
  {
   "cell_type": "code",
   "execution_count": null,
   "metadata": {},
   "outputs": [],
   "source": [
    "urllib.request.urlopen(url).read() \n",
    "response = urllib.request.urlopen(url).read()\n",
    "json_obj = str(response, 'utf-8')\n",
    "forecast_load = json.loads(json_obj)"
   ]
  },
  {
   "cell_type": "code",
   "execution_count": null,
   "metadata": {},
   "outputs": [],
   "source": []
  },
  {
   "cell_type": "code",
   "execution_count": 1227,
   "metadata": {
    "ExecuteTime": {
     "end_time": "2020-07-30T14:06:41.393295Z",
     "start_time": "2020-07-30T14:06:41.384675Z"
    }
   },
   "outputs": [],
   "source": [
    "openweather_api_key ='f1afaaf6a82c52ed15b283488ae2f377'\n",
    "openweather_api_url = 'api.openweathermap.org/data/2.5/weather?lat={lat}&lon={lon}&units=metric&appid={your api key}'"
   ]
  },
  {
   "cell_type": "code",
   "execution_count": 1223,
   "metadata": {
    "ExecuteTime": {
     "end_time": "2020-07-30T13:31:18.435256Z",
     "start_time": "2020-07-30T13:31:18.422069Z"
    }
   },
   "outputs": [],
   "source": [
    "def forecast(lat,long):\n",
    "    url='https://api.openweathermap.org/data/2.5/onecall?lat={}&lon={}&exclude=current,minutely,daily&units=metric&appid=f1afaaf6a82c52ed15b283488ae2f377'.format(lat,long)\n",
    "    urllib.request.urlopen(url).read() \n",
    "    response = urllib.request.urlopen(url).read()\n",
    "    json_obj = str(response, 'utf-8')\n",
    "    forecast_load = json.loads(json_obj)\n",
    "    df_forecast = pd.DataFrame(forecast_load['hourly']).copy()\n",
    "    df_forecast['dt'] = df_forecast.dt.apply(lambda x : datetime.fromtimestamp(x))\n",
    "    df_forecast = df_forecast.set_index('dt')\n",
    "    forecast_cols = ['clouds', 'dew_point', 'feels_like', 'humidity', 'pop','visibility', 'weather']\n",
    "    dict_forec = {'wind_speed':'wsp_10m_ms','temp':'t_2m_k','wind_deg':'wdir_10m_dn','pressure':'msl_ms_pa'}\n",
    "\n",
    "    if len(df_forecast.columns)>4:\n",
    "        for i in forecast_cols:\n",
    "            df_forecast.pop(i)\n",
    "    df_forecast = df_forecast.rename(columns=dict_forec)\n",
    "    df_forecast['msl_ms_pa'] = df_forecast['msl_ms_pa'].apply(lambda x : x*100)\n",
    "    df_forecast['t_2m_k'] = df_forecast['t_2m_k'].apply(lambda x : x+273,15)\n",
    "\n",
    "    x_train_forecast = df[['msl_ms_pa', 't_2m_k', \n",
    "                           'wdir_10m_dn',\n",
    "                           'wsp_10m_ms','wsp_100m_ms']].copy()\n",
    "    y_train_forecast = df['target_losses_norm'].copy()\n",
    "    x_test_forecast = df_forecast[['msl_ms_pa', 't_2m_k', \n",
    "                           'wdir_10m_dn',\n",
    "                           'wsp_10m_ms']].copy()\n",
    "    x_test_forecast['wsp_100m_ms'] = x_test_forecast['wsp_10m_ms'].apply(lambda x: x/0.64)\n",
    "\n",
    "    rfr_model = RandomForestRegressor(n_estimators=10, max_features='sqrt',max_depth=8, min_samples_leaf=10)\n",
    "    y_train_forecast_pred = cross_val_predict(rfr_model, x_train_forecast, y_train_forecast)\n",
    "    rfr_model = rfr_model.fit(x_train_forecast, y_train_forecast)\n",
    "    y_test_forecast_pred = rfr_model.predict(x_test_forecast)\n",
    "    regr_eval(y_train_forecast, y_train_forecast_pred)\n",
    "    y_test_forecast_pred = pd.DataFrame(y_test_forecast_pred,index=x_test_forecast.index)\n",
    "    plt.plot(y_test_forecast_pred)\n",
    "    plt.title('Forecast for latitude {} and longitude {}'.format(lat,long))\n",
    "    plt.xticks(rotation=45)\n",
    "    plt.show()\n",
    "    return y_test_forecast_pred.rename(columns={0:'target_losses_norm'})"
   ]
  },
  {
   "cell_type": "code",
   "execution_count": 10,
   "metadata": {
    "ExecuteTime": {
     "end_time": "2020-07-31T13:44:22.760120Z",
     "start_time": "2020-07-31T13:44:22.757386Z"
    },
    "scrolled": true
   },
   "outputs": [],
   "source": [
    "#forecast(52.790042, 8.649624)"
   ]
  },
  {
   "cell_type": "markdown",
   "metadata": {},
   "source": [
    "- dict with location and coordinates as a tuple\n",
    "\n",
    "- 6 lat and long coordinates with historical Data to teach the model (calculate wsp100m with ratio of last year)\n",
    "\n",
    "- getting the current weather forecast via api\n",
    "\n",
    "- predict einsman actions over the next 48 hours with forecast\n",
    "\n",
    "- visualize einsman actions in a dashboard with a map(slider for 48 hours), raw data\n",
    "\n",
    "- hourly and monthly average of ratio between wsp 10 and wsp100\n"
   ]
  },
  {
   "cell_type": "code",
   "execution_count": null,
   "metadata": {},
   "outputs": [],
   "source": []
  },
  {
   "cell_type": "markdown",
   "metadata": {},
   "source": [
    "# Climacell API (short term 6hrs)"
   ]
  },
  {
   "cell_type": "code",
   "execution_count": 1228,
   "metadata": {
    "ExecuteTime": {
     "end_time": "2020-07-30T14:07:37.088255Z",
     "start_time": "2020-07-30T14:07:37.084867Z"
    }
   },
   "outputs": [],
   "source": [
    "climacell_api_key = 'QaNtMY27bUQcSLQrQuG5u2k3lZwNAm9a'\n",
    "climacell_api_url = 'https://api.climacell.co/v3/locations?apikey=QaNtMY27bUQcSLQrQuG5u2k3lZwNAm9a'"
   ]
  },
  {
   "cell_type": "code",
   "execution_count": 1229,
   "metadata": {
    "ExecuteTime": {
     "end_time": "2020-07-30T14:17:30.321341Z",
     "start_time": "2020-07-30T14:17:29.168557Z"
    },
    "scrolled": true
   },
   "outputs": [
    {
     "name": "stdout",
     "output_type": "stream",
     "text": [
      "[{\"lat\":52.790042,\"lon\":8.649624,\"temp\":{\"value\":20.96,\"units\":\"C\"},\"wind_speed\":{\"value\":2.89,\"units\":\"m/s\"},\"wind_gust\":{\"value\":5.15,\"units\":\"m/s\"},\"baro_pressure\":{\"value\":1021.198,\"units\":\"hPa\"},\"surface_shortwave_radiation\":{\"value\":410.57812,\"units\":\"w/sqm\"},\"observation_time\":{\"value\":\"2020-07-30T14:17:29.742Z\"}},{\"lat\":52.790042,\"lon\":8.649624,\"temp\":{\"value\":20.97,\"units\":\"C\"},\"wind_speed\":{\"value\":2.87,\"units\":\"m/s\"},\"wind_gust\":{\"value\":5.13,\"units\":\"m/s\"},\"baro_pressure\":{\"value\":1021.1515,\"units\":\"hPa\"},\"surface_shortwave_radiation\":{\"value\":410.57812,\"units\":\"w/sqm\"},\"observation_time\":{\"value\":\"2020-07-30T14:27:29.742Z\"}},{\"lat\":52.790042,\"lon\":8.649624,\"temp\":{\"value\":20.99,\"units\":\"C\"},\"wind_speed\":{\"value\":2.84,\"units\":\"m/s\"},\"wind_gust\":{\"value\":5.1,\"units\":\"m/s\"},\"baro_pressure\":{\"value\":1021.1051,\"units\":\"hPa\"},\"surface_shortwave_radiation\":{\"value\":410.57812,\"units\":\"w/sqm\"},\"observation_time\":{\"value\":\"2020-07-30T14:37:29.742Z\"}},{\"lat\":52.790042,\"lon\":8.649624,\"temp\":{\"value\":21,\"units\":\"C\"},\"wind_speed\":{\"value\":2.82,\"units\":\"m/s\"},\"wind_gust\":{\"value\":5.08,\"units\":\"m/s\"},\"baro_pressure\":{\"value\":1021.0587,\"units\":\"hPa\"},\"surface_shortwave_radiation\":{\"value\":410.57812,\"units\":\"w/sqm\"},\"observation_time\":{\"value\":\"2020-07-30T14:47:29.742Z\"}},{\"lat\":52.790042,\"lon\":8.649624,\"temp\":{\"value\":21.02,\"units\":\"C\"},\"wind_speed\":{\"value\":2.79,\"units\":\"m/s\"},\"wind_gust\":{\"value\":5.06,\"units\":\"m/s\"},\"baro_pressure\":{\"value\":1021.0122,\"units\":\"hPa\"},\"surface_shortwave_radiation\":{\"value\":410.57812,\"units\":\"w/sqm\"},\"observation_time\":{\"value\":\"2020-07-30T14:57:29.742Z\"}},{\"lat\":52.790042,\"lon\":8.649624,\"temp\":{\"value\":21,\"units\":\"C\"},\"wind_speed\":{\"value\":2.77,\"units\":\"m/s\"},\"wind_gust\":{\"value\":5.02,\"units\":\"m/s\"},\"baro_pressure\":{\"value\":1020.9279,\"units\":\"hPa\"},\"surface_shortwave_radiation\":{\"value\":401.84375,\"units\":\"w/sqm\"},\"observation_time\":{\"value\":\"2020-07-30T15:07:29.742Z\"}},{\"lat\":52.790042,\"lon\":8.649624,\"temp\":{\"value\":20.97,\"units\":\"C\"},\"wind_speed\":{\"value\":2.74,\"units\":\"m/s\"},\"wind_gust\":{\"value\":4.97,\"units\":\"m/s\"},\"baro_pressure\":{\"value\":1020.8309,\"units\":\"hPa\"},\"surface_shortwave_radiation\":{\"value\":401.84375,\"units\":\"w/sqm\"},\"observation_time\":{\"value\":\"2020-07-30T15:17:29.742Z\"}},{\"lat\":52.790042,\"lon\":8.649624,\"temp\":{\"value\":20.95,\"units\":\"C\"},\"wind_speed\":{\"value\":2.71,\"units\":\"m/s\"},\"wind_gust\":{\"value\":4.93,\"units\":\"m/s\"},\"baro_pressure\":{\"value\":1020.734,\"units\":\"hPa\"},\"surface_shortwave_radiation\":{\"value\":401.84375,\"units\":\"w/sqm\"},\"observation_time\":{\"value\":\"2020-07-30T15:27:29.742Z\"}},{\"lat\":52.790042,\"lon\":8.649624,\"temp\":{\"value\":20.92,\"units\":\"C\"},\"wind_speed\":{\"value\":2.69,\"units\":\"m/s\"},\"wind_gust\":{\"value\":4.88,\"units\":\"m/s\"},\"baro_pressure\":{\"value\":1020.637,\"units\":\"hPa\"},\"surface_shortwave_radiation\":{\"value\":401.84375,\"units\":\"w/sqm\"},\"observation_time\":{\"value\":\"2020-07-30T15:37:29.742Z\"}},{\"lat\":52.790042,\"lon\":8.649624,\"temp\":{\"value\":20.9,\"units\":\"C\"},\"wind_speed\":{\"value\":2.66,\"units\":\"m/s\"},\"wind_gust\":{\"value\":4.84,\"units\":\"m/s\"},\"baro_pressure\":{\"value\":1020.54,\"units\":\"hPa\"},\"surface_shortwave_radiation\":{\"value\":401.84375,\"units\":\"w/sqm\"},\"observation_time\":{\"value\":\"2020-07-30T15:47:29.742Z\"}},{\"lat\":52.790042,\"lon\":8.649624,\"temp\":{\"value\":20.87,\"units\":\"C\"},\"wind_speed\":{\"value\":2.64,\"units\":\"m/s\"},\"wind_gust\":{\"value\":4.79,\"units\":\"m/s\"},\"baro_pressure\":{\"value\":1020.443,\"units\":\"hPa\"},\"surface_shortwave_radiation\":{\"value\":401.84375,\"units\":\"w/sqm\"},\"observation_time\":{\"value\":\"2020-07-30T15:57:29.742Z\"}},{\"lat\":52.790042,\"lon\":8.649624,\"temp\":{\"value\":20.78,\"units\":\"C\"},\"wind_speed\":{\"value\":2.54,\"units\":\"m/s\"},\"wind_gust\":{\"value\":4.75,\"units\":\"m/s\"},\"baro_pressure\":{\"value\":1020.4149,\"units\":\"hPa\"},\"surface_shortwave_radiation\":{\"value\":383.89062,\"units\":\"w/sqm\"},\"observation_time\":{\"value\":\"2020-07-30T16:07:29.742Z\"}},{\"lat\":52.790042,\"lon\":8.649624,\"temp\":{\"value\":20.67,\"units\":\"C\"},\"wind_speed\":{\"value\":2.43,\"units\":\"m/s\"},\"wind_gust\":{\"value\":4.7,\"units\":\"m/s\"},\"baro_pressure\":{\"value\":1020.4096,\"units\":\"hPa\"},\"surface_shortwave_radiation\":{\"value\":383.89062,\"units\":\"w/sqm\"},\"observation_time\":{\"value\":\"2020-07-30T16:17:29.742Z\"}},{\"lat\":52.790042,\"lon\":8.649624,\"temp\":{\"value\":20.56,\"units\":\"C\"},\"wind_speed\":{\"value\":2.31,\"units\":\"m/s\"},\"wind_gust\":{\"value\":4.66,\"units\":\"m/s\"},\"baro_pressure\":{\"value\":1020.4044,\"units\":\"hPa\"},\"surface_shortwave_radiation\":{\"value\":383.89062,\"units\":\"w/sqm\"},\"observation_time\":{\"value\":\"2020-07-30T16:27:29.742Z\"}},{\"lat\":52.790042,\"lon\":8.649624,\"temp\":{\"value\":20.46,\"units\":\"C\"},\"wind_speed\":{\"value\":2.19,\"units\":\"m/s\"},\"wind_gust\":{\"value\":4.62,\"units\":\"m/s\"},\"baro_pressure\":{\"value\":1020.3992,\"units\":\"hPa\"},\"surface_shortwave_radiation\":{\"value\":383.89062,\"units\":\"w/sqm\"},\"observation_time\":{\"value\":\"2020-07-30T16:37:29.742Z\"}},{\"lat\":52.790042,\"lon\":8.649624,\"temp\":{\"value\":20.35,\"units\":\"C\"},\"wind_speed\":{\"value\":2.07,\"units\":\"m/s\"},\"wind_gust\":{\"value\":4.58,\"units\":\"m/s\"},\"baro_pressure\":{\"value\":1020.394,\"units\":\"hPa\"},\"surface_shortwave_radiation\":{\"value\":383.89062,\"units\":\"w/sqm\"},\"observation_time\":{\"value\":\"2020-07-30T16:47:29.742Z\"}},{\"lat\":52.790042,\"lon\":8.649624,\"temp\":{\"value\":20.24,\"units\":\"C\"},\"wind_speed\":{\"value\":1.96,\"units\":\"m/s\"},\"wind_gust\":{\"value\":4.53,\"units\":\"m/s\"},\"baro_pressure\":{\"value\":1020.3888,\"units\":\"hPa\"},\"surface_shortwave_radiation\":{\"value\":383.89062,\"units\":\"w/sqm\"},\"observation_time\":{\"value\":\"2020-07-30T16:57:29.742Z\"}},{\"lat\":52.790042,\"lon\":8.649624,\"temp\":{\"value\":20.14,\"units\":\"C\"},\"wind_speed\":{\"value\":1.75,\"units\":\"m/s\"},\"wind_gust\":{\"value\":4.36,\"units\":\"m/s\"},\"baro_pressure\":{\"value\":1020.3173,\"units\":\"hPa\"},\"surface_shortwave_radiation\":{\"value\":343.53125,\"units\":\"w/sqm\"},\"observation_time\":{\"value\":\"2020-07-30T17:07:29.742Z\"}},{\"lat\":52.790042,\"lon\":8.649624,\"temp\":{\"value\":20.05,\"units\":\"C\"},\"wind_speed\":{\"value\":1.51,\"units\":\"m/s\"},\"wind_gust\":{\"value\":4.15,\"units\":\"m/s\"},\"baro_pressure\":{\"value\":1020.2237,\"units\":\"hPa\"},\"surface_shortwave_radiation\":{\"value\":343.53125,\"units\":\"w/sqm\"},\"observation_time\":{\"value\":\"2020-07-30T17:17:29.742Z\"}},{\"lat\":52.790042,\"lon\":8.649624,\"temp\":{\"value\":19.97,\"units\":\"C\"},\"wind_speed\":{\"value\":1.28,\"units\":\"m/s\"},\"wind_gust\":{\"value\":3.93,\"units\":\"m/s\"},\"baro_pressure\":{\"value\":1020.1301,\"units\":\"hPa\"},\"surface_shortwave_radiation\":{\"value\":343.53125,\"units\":\"w/sqm\"},\"observation_time\":{\"value\":\"2020-07-30T17:27:29.742Z\"}},{\"lat\":52.790042,\"lon\":8.649624,\"temp\":{\"value\":19.88,\"units\":\"C\"},\"wind_speed\":{\"value\":1.04,\"units\":\"m/s\"},\"wind_gust\":{\"value\":3.72,\"units\":\"m/s\"},\"baro_pressure\":{\"value\":1020.0365,\"units\":\"hPa\"},\"surface_shortwave_radiation\":{\"value\":343.53125,\"units\":\"w/sqm\"},\"observation_time\":{\"value\":\"2020-07-30T17:37:29.742Z\"}},{\"lat\":52.790042,\"lon\":8.649624,\"temp\":{\"value\":19.79,\"units\":\"C\"},\"wind_speed\":{\"value\":0.81,\"units\":\"m/s\"},\"wind_gust\":{\"value\":3.51,\"units\":\"m/s\"},\"baro_pressure\":{\"value\":1019.9429,\"units\":\"hPa\"},\"surface_shortwave_radiation\":{\"value\":343.53125,\"units\":\"w/sqm\"},\"observation_time\":{\"value\":\"2020-07-30T17:47:29.742Z\"}},{\"lat\":52.790042,\"lon\":8.649624,\"temp\":{\"value\":19.7,\"units\":\"C\"},\"wind_speed\":{\"value\":0.57,\"units\":\"m/s\"},\"wind_gust\":{\"value\":3.29,\"units\":\"m/s\"},\"baro_pressure\":{\"value\":1019.8492,\"units\":\"hPa\"},\"surface_shortwave_radiation\":{\"value\":343.53125,\"units\":\"w/sqm\"},\"observation_time\":{\"value\":\"2020-07-30T17:57:29.742Z\"}},{\"lat\":52.790042,\"lon\":8.649624,\"temp\":{\"value\":19.53,\"units\":\"C\"},\"wind_speed\":{\"value\":0.55,\"units\":\"m/s\"},\"wind_gust\":{\"value\":2.99,\"units\":\"m/s\"},\"baro_pressure\":{\"value\":1019.8622,\"units\":\"hPa\"},\"surface_shortwave_radiation\":{\"value\":311.59375,\"units\":\"w/sqm\"},\"observation_time\":{\"value\":\"2020-07-30T18:07:29.742Z\"}},{\"lat\":52.790042,\"lon\":8.649624,\"temp\":{\"value\":19.33,\"units\":\"C\"},\"wind_speed\":{\"value\":0.6,\"units\":\"m/s\"},\"wind_gust\":{\"value\":2.65,\"units\":\"m/s\"},\"baro_pressure\":{\"value\":1019.9107,\"units\":\"hPa\"},\"surface_shortwave_radiation\":{\"value\":311.59375,\"units\":\"w/sqm\"},\"observation_time\":{\"value\":\"2020-07-30T18:17:29.742Z\"}},{\"lat\":52.790042,\"lon\":8.649624,\"temp\":{\"value\":19.13,\"units\":\"C\"},\"wind_speed\":{\"value\":0.65,\"units\":\"m/s\"},\"wind_gust\":{\"value\":2.32,\"units\":\"m/s\"},\"baro_pressure\":{\"value\":1019.9592,\"units\":\"hPa\"},\"surface_shortwave_radiation\":{\"value\":311.59375,\"units\":\"w/sqm\"},\"observation_time\":{\"value\":\"2020-07-30T18:27:29.742Z\"}},{\"lat\":52.790042,\"lon\":8.649624,\"temp\":{\"value\":18.93,\"units\":\"C\"},\"wind_speed\":{\"value\":0.69,\"units\":\"m/s\"},\"wind_gust\":{\"value\":1.98,\"units\":\"m/s\"},\"baro_pressure\":{\"value\":1020.0077,\"units\":\"hPa\"},\"surface_shortwave_radiation\":{\"value\":311.59375,\"units\":\"w/sqm\"},\"observation_time\":{\"value\":\"2020-07-30T18:37:29.742Z\"}},{\"lat\":52.790042,\"lon\":8.649624,\"temp\":{\"value\":18.73,\"units\":\"C\"},\"wind_speed\":{\"value\":0.74,\"units\":\"m/s\"},\"wind_gust\":{\"value\":1.65,\"units\":\"m/s\"},\"baro_pressure\":{\"value\":1020.0563,\"units\":\"hPa\"},\"surface_shortwave_radiation\":{\"value\":311.59375,\"units\":\"w/sqm\"},\"observation_time\":{\"value\":\"2020-07-30T18:47:29.742Z\"}},{\"lat\":52.790042,\"lon\":8.649624,\"temp\":{\"value\":18.53,\"units\":\"C\"},\"wind_speed\":{\"value\":0.79,\"units\":\"m/s\"},\"wind_gust\":{\"value\":1.31,\"units\":\"m/s\"},\"baro_pressure\":{\"value\":1020.1048,\"units\":\"hPa\"},\"surface_shortwave_radiation\":{\"value\":311.59375,\"units\":\"w/sqm\"},\"observation_time\":{\"value\":\"2020-07-30T18:57:29.742Z\"}},{\"lat\":52.790042,\"lon\":8.649624,\"temp\":{\"value\":18.25,\"units\":\"C\"},\"wind_speed\":{\"value\":0.81,\"units\":\"m/s\"},\"wind_gust\":{\"value\":1.27,\"units\":\"m/s\"},\"baro_pressure\":{\"value\":1020.1397,\"units\":\"hPa\"},\"surface_shortwave_radiation\":{\"value\":280.64062,\"units\":\"w/sqm\"},\"observation_time\":{\"value\":\"2020-07-30T19:07:29.742Z\"}},{\"lat\":52.790042,\"lon\":8.649624,\"temp\":{\"value\":17.95,\"units\":\"C\"},\"wind_speed\":{\"value\":0.83,\"units\":\"m/s\"},\"wind_gust\":{\"value\":1.32,\"units\":\"m/s\"},\"baro_pressure\":{\"value\":1020.1701,\"units\":\"hPa\"},\"surface_shortwave_radiation\":{\"value\":280.64062,\"units\":\"w/sqm\"},\"observation_time\":{\"value\":\"2020-07-30T19:17:29.742Z\"}},{\"lat\":52.790042,\"lon\":8.649624,\"temp\":{\"value\":17.65,\"units\":\"C\"},\"wind_speed\":{\"value\":0.84,\"units\":\"m/s\"},\"wind_gust\":{\"value\":1.38,\"units\":\"m/s\"},\"baro_pressure\":{\"value\":1020.2004,\"units\":\"hPa\"},\"surface_shortwave_radiation\":{\"value\":280.64062,\"units\":\"w/sqm\"},\"observation_time\":{\"value\":\"2020-07-30T19:27:29.742Z\"}},{\"lat\":52.790042,\"lon\":8.649624,\"temp\":{\"value\":17.34,\"units\":\"C\"},\"wind_speed\":{\"value\":0.86,\"units\":\"m/s\"},\"wind_gust\":{\"value\":1.44,\"units\":\"m/s\"},\"baro_pressure\":{\"value\":1020.2308,\"units\":\"hPa\"},\"surface_shortwave_radiation\":{\"value\":280.64062,\"units\":\"w/sqm\"},\"observation_time\":{\"value\":\"2020-07-30T19:37:29.742Z\"}},{\"lat\":52.790042,\"lon\":8.649624,\"temp\":{\"value\":17.04,\"units\":\"C\"},\"wind_speed\":{\"value\":0.87,\"units\":\"m/s\"},\"wind_gust\":{\"value\":1.49,\"units\":\"m/s\"},\"baro_pressure\":{\"value\":1020.2611,\"units\":\"hPa\"},\"surface_shortwave_radiation\":{\"value\":280.64062,\"units\":\"w/sqm\"},\"observation_time\":{\"value\":\"2020-07-30T19:47:29.742Z\"}},{\"lat\":52.790042,\"lon\":8.649624,\"temp\":{\"value\":16.74,\"units\":\"C\"},\"wind_speed\":{\"value\":0.88,\"units\":\"m/s\"},\"wind_gust\":{\"value\":1.55,\"units\":\"m/s\"},\"baro_pressure\":{\"value\":1020.2915,\"units\":\"hPa\"},\"surface_shortwave_radiation\":{\"value\":280.64062,\"units\":\"w/sqm\"},\"observation_time\":{\"value\":\"2020-07-30T19:57:29.742Z\"}},{\"lat\":52.790042,\"lon\":8.649624,\"temp\":{\"value\":16.43,\"units\":\"C\"},\"wind_speed\":{\"value\":0.9,\"units\":\"m/s\"},\"wind_gust\":{\"value\":1.6,\"units\":\"m/s\"},\"baro_pressure\":{\"value\":1020.3219,\"units\":\"hPa\"},\"surface_shortwave_radiation\":{\"value\":255.15625,\"units\":\"w/sqm\"},\"observation_time\":{\"value\":\"2020-07-30T20:07:29.742Z\"}},{\"lat\":52.790042,\"lon\":8.649624,\"temp\":{\"value\":16.13,\"units\":\"C\"},\"wind_speed\":{\"value\":0.91,\"units\":\"m/s\"},\"wind_gust\":{\"value\":1.66,\"units\":\"m/s\"},\"baro_pressure\":{\"value\":1020.3522,\"units\":\"hPa\"},\"surface_shortwave_radiation\":{\"value\":255.15625,\"units\":\"w/sqm\"},\"observation_time\":{\"value\":\"2020-07-30T20:17:29.742Z\"}}]\n"
     ]
    }
   ],
   "source": [
    "url = \"https://api.climacell.co/v3/weather/nowcast\"\n",
    "querystring = {\"lat\":\"52.790042\",\"lon\":\"8.649624\",\"unit_system\":\"si\",\"timestep\":\"10\",\"start_time\":\"now\",\"fields\":\"wind_gust,wind_speed,temp,surface_shortwave_radiation,baro_pressure\",\"apikey\":\"QaNtMY27bUQcSLQrQuG5u2k3lZwNAm9a\"}\n",
    "response = requests.request(\"GET\", url, params=querystring)"
   ]
  },
  {
   "cell_type": "code",
   "execution_count": 1252,
   "metadata": {
    "ExecuteTime": {
     "end_time": "2020-07-30T14:41:06.592086Z",
     "start_time": "2020-07-30T14:41:06.562918Z"
    }
   },
   "outputs": [],
   "source": [
    "tex = pd.read_json(response.text)"
   ]
  },
  {
   "cell_type": "code",
   "execution_count": 1266,
   "metadata": {
    "ExecuteTime": {
     "end_time": "2020-07-30T14:58:40.345043Z",
     "start_time": "2020-07-30T14:58:40.242553Z"
    }
   },
   "outputs": [],
   "source": [
    "tex['msl_ms_pa'] = (tex['baro_pressure'].apply(pd.Series))['value'].apply(lambda x: x*100)\n",
    "tex['t_2m_k'] = (tex['temp'].apply(pd.Series))['value']\n",
    "tex['gust_sfc_ms'] = (tex['wind_gust'].apply(pd.Series))['value']\n",
    "tex['wsp_10m_ms'] = (tex['wind_speed'].apply(pd.Series))['value']\n",
    "tex['wsp_100m_ms'] = (tex['wind_speed'].apply(pd.Series))['value'].apply(lambda x: x/0.64)"
   ]
  },
  {
   "cell_type": "code",
   "execution_count": 1267,
   "metadata": {
    "ExecuteTime": {
     "end_time": "2020-07-30T14:58:41.710745Z",
     "start_time": "2020-07-30T14:58:41.701825Z"
    }
   },
   "outputs": [],
   "source": [
    "df_climacell = tex[['msl_ms_pa','t_2m_k','gust_sfc_ms','wsp_10m_ms','wsp_100m_ms']]"
   ]
  },
  {
   "cell_type": "code",
   "execution_count": 1269,
   "metadata": {
    "ExecuteTime": {
     "end_time": "2020-07-30T15:04:30.284070Z",
     "start_time": "2020-07-30T15:04:30.265482Z"
    }
   },
   "outputs": [],
   "source": [
    "def climacell_pred(lat,long):    \n",
    "    \n",
    "    url = \"https://api.climacell.co/v3/weather/nowcast\"\n",
    "    querystring = {\"lat\":\"{}\".format(lat),\"lon\":\"{}\".format(long),\"unit_system\":\"si\",\"timestep\":\"10\",\"start_time\":\"now\",\"fields\":\"wind_gust,wind_speed,temp,surface_shortwave_radiation,baro_pressure\",\"apikey\":\"QaNtMY27bUQcSLQrQuG5u2k3lZwNAm9a\"}\n",
    "    response = requests.request(\"GET\", url, params=querystring)\n",
    "    tex = pd.read_json(response.text)\n",
    "    \n",
    "    tex['msl_ms_pa'] = (tex['baro_pressure'].apply(pd.Series))['value'].apply(lambda x: x*100)\n",
    "    tex['t_2m_k'] = (tex['temp'].apply(pd.Series))['value']\n",
    "    tex['gust_sfc_ms'] = (tex['wind_gust'].apply(pd.Series))['value']\n",
    "    tex['wsp_10m_ms'] = (tex['wind_speed'].apply(pd.Series))['value']\n",
    "    tex['wsp_100m_ms'] = (tex['wind_speed'].apply(pd.Series))['value'].apply(lambda x: x/0.64)\n",
    "    df_climacell = tex[['msl_ms_pa','t_2m_k','gust_sfc_ms','wsp_10m_ms','wsp_100m_ms']]\n",
    "    \n",
    "    x_train_forecast = df[['msl_ms_pa', 't_2m_k', 'gust_sfc_ms', 'wsp_10m_ms','wsp_100m_ms']].copy()\n",
    "    y_train_forecast = df['target_losses_norm'].copy()\n",
    "    x_test_forecast = df_climacell[['msl_ms_pa', 't_2m_k', 'gust_sfc_ms', 'wsp_10m_ms','wsp_100m_ms']].copy()\n",
    "    \n",
    "    rfr_model = RandomForestRegressor(n_estimators=10, max_features='sqrt',max_depth=8, min_samples_leaf=10)\n",
    "    y_train_forecast_pred = cross_val_predict(rfr_model, x_train_forecast, y_train_forecast)\n",
    "    rfr_model = rfr_model.fit(x_train_forecast, y_train_forecast)\n",
    "    y_test_forecast_pred = rfr_model.predict(x_test_forecast)\n",
    "    regr_eval(y_train_forecast, y_train_forecast_pred)\n",
    "    y_test_forecast_pred = pd.DataFrame(y_test_forecast_pred,index=x_test_forecast.index)\n",
    "    \n",
    "    plt.plot(y_test_forecast_pred)\n",
    "    plt.title('Forecast for latitude {} and longitude {}'.format(lat,long))\n",
    "    plt.xticks(rotation=45)\n",
    "    plt.show()\n",
    "    return y_test_forecast_pred.rename(columns={0:'target_losses_norm'})"
   ]
  },
  {
   "cell_type": "code",
   "execution_count": 11,
   "metadata": {
    "ExecuteTime": {
     "end_time": "2020-07-31T13:44:31.229436Z",
     "start_time": "2020-07-31T13:44:31.226931Z"
    }
   },
   "outputs": [],
   "source": [
    "#climacell_pred(52.790042, 8.649624)"
   ]
  },
  {
   "cell_type": "code",
   "execution_count": null,
   "metadata": {},
   "outputs": [],
   "source": []
  },
  {
   "cell_type": "code",
   "execution_count": null,
   "metadata": {},
   "outputs": [],
   "source": []
  },
  {
   "cell_type": "code",
   "execution_count": null,
   "metadata": {},
   "outputs": [],
   "source": []
  },
  {
   "cell_type": "code",
   "execution_count": null,
   "metadata": {},
   "outputs": [],
   "source": []
  },
  {
   "cell_type": "markdown",
   "metadata": {},
   "source": [
    "## Windspeed 10 m in percent of windspeed 100 m"
   ]
  },
  {
   "cell_type": "code",
   "execution_count": 1058,
   "metadata": {
    "ExecuteTime": {
     "end_time": "2020-07-29T11:50:36.303141Z",
     "start_time": "2020-07-29T11:50:36.295307Z"
    }
   },
   "outputs": [
    {
     "data": {
      "text/plain": [
       "0.39163593998328455"
      ]
     },
     "execution_count": 1058,
     "metadata": {},
     "output_type": "execute_result"
    }
   ],
   "source": [
    "wsp_diff = df.wsp_10m_ms / df.wsp_100m_ms\n",
    "wsp_diff.min()"
   ]
  },
  {
   "cell_type": "code",
   "execution_count": 1059,
   "metadata": {
    "ExecuteTime": {
     "end_time": "2020-07-29T11:51:18.928214Z",
     "start_time": "2020-07-29T11:51:18.566948Z"
    }
   },
   "outputs": [
    {
     "data": {
      "text/plain": [
       "<matplotlib.axes._subplots.AxesSubplot at 0x7fdc2301bc18>"
      ]
     },
     "execution_count": 1059,
     "metadata": {},
     "output_type": "execute_result"
    },
    {
     "data": {
      "image/png": "[encoded data removed]",
      "text/plain": [
       "<Figure size 432x288 with 1 Axes>"
      ]
     },
     "metadata": {
      "needs_background": "light"
     },
     "output_type": "display_data"
    }
   ],
   "source": [
    "sns.boxplot(wsp_diff)"
   ]
  },
  {
   "cell_type": "code",
   "execution_count": 1138,
   "metadata": {
    "ExecuteTime": {
     "end_time": "2020-07-30T11:20:21.490195Z",
     "start_time": "2020-07-30T11:20:21.146503Z"
    }
   },
   "outputs": [
    {
     "name": "stderr",
     "output_type": "stream",
     "text": [
      "/Users/matthis/opt/anaconda3/envs/nf/lib/python3.6/site-packages/pandas/core/arrays/datetimes.py:1172: UserWarning:\n",
      "\n",
      "Converting to PeriodArray/Index representation will drop timezone information.\n",
      "\n"
     ]
    },
    {
     "data": {
      "text/plain": [
       "<function matplotlib.pyplot.show(*args, **kw)>"
      ]
     },
     "execution_count": 1138,
     "metadata": {},
     "output_type": "execute_result"
    },
    {
     "data": {
      "image/png": "[encoded data removed]",
      "text/plain": [
       "<Figure size 432x288 with 1 Axes>"
      ]
     },
     "metadata": {
      "needs_background": "light"
     },
     "output_type": "display_data"
    }
   ],
   "source": [
    "avg_pow = wsp_diff.resample('W').mean()\n",
    "avg_pow.plot()\n",
    "plt.show"
   ]
  },
  {
   "cell_type": "code",
   "execution_count": null,
   "metadata": {},
   "outputs": [],
   "source": []
  }
 ],
 "metadata": {
  "kernelspec": {
   "display_name": "Python [conda env:nf] *",
   "language": "python",
   "name": "conda-env-nf-py"
  },
  "language_info": {
   "codemirror_mode": {
    "name": "ipython",
    "version": 3
   },
   "file_extension": ".py",
   "mimetype": "text/x-python",
   "name": "python",
   "nbconvert_exporter": "python",
   "pygments_lexer": "ipython3",
   "version": "3.6.10"
  },
  "toc": {
   "base_numbering": 1,
   "nav_menu": {},
   "number_sections": true,
   "sideBar": true,
   "skip_h1_title": false,
   "title_cell": "Table of Contents",
   "title_sidebar": "Contents",
   "toc_cell": false,
   "toc_position": {},
   "toc_section_display": true,
   "toc_window_display": true
  }
 },
 "nbformat": 4,
 "nbformat_minor": 4
}
